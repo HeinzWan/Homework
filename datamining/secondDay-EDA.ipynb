{
 "cells": [
  {
   "cell_type": "code",
   "execution_count": 2,
   "id": "fe70989f",
   "metadata": {
    "ExecuteTime": {
     "end_time": "2021-08-10T03:35:36.994728Z",
     "start_time": "2021-08-10T03:35:36.528587Z"
    }
   },
   "outputs": [],
   "source": [
    "import numpy as np\n",
    "import pandas as pd"
   ]
  },
  {
   "cell_type": "code",
   "execution_count": 2,
   "id": "22d82c0f",
   "metadata": {
    "ExecuteTime": {
     "end_time": "2021-08-10T03:06:49.488685Z",
     "start_time": "2021-08-10T03:06:49.472654Z"
    }
   },
   "outputs": [
    {
     "ename": "SyntaxError",
     "evalue": "invalid syntax (<ipython-input-2-f9d34ddc14a2>, line 1)",
     "output_type": "error",
     "traceback": [
      "\u001b[1;36m  File \u001b[1;32m\"<ipython-input-2-f9d34ddc14a2>\"\u001b[1;36m, line \u001b[1;32m1\u001b[0m\n\u001b[1;33m    Nan = not a number\u001b[0m\n\u001b[1;37m                ^\u001b[0m\n\u001b[1;31mSyntaxError\u001b[0m\u001b[1;31m:\u001b[0m invalid syntax\n"
     ]
    }
   ],
   "source": [
    "#NaN\n",
    "#Nan = not a number"
   ]
  },
  {
   "cell_type": "code",
   "execution_count": 3,
   "id": "2136e1c0",
   "metadata": {
    "ExecuteTime": {
     "end_time": "2021-08-10T03:35:39.153743Z",
     "start_time": "2021-08-10T03:35:39.123614Z"
    }
   },
   "outputs": [
    {
     "data": {
      "text/html": [
       "<div>\n",
       "<style scoped>\n",
       "    .dataframe tbody tr th:only-of-type {\n",
       "        vertical-align: middle;\n",
       "    }\n",
       "\n",
       "    .dataframe tbody tr th {\n",
       "        vertical-align: top;\n",
       "    }\n",
       "\n",
       "    .dataframe thead th {\n",
       "        text-align: right;\n",
       "    }\n",
       "</style>\n",
       "<table border=\"1\" class=\"dataframe\">\n",
       "  <thead>\n",
       "    <tr style=\"text-align: right;\">\n",
       "      <th></th>\n",
       "      <th>name</th>\n",
       "      <th>age</th>\n",
       "      <th>sex</th>\n",
       "      <th>grade</th>\n",
       "      <th>fruit</th>\n",
       "    </tr>\n",
       "  </thead>\n",
       "  <tbody>\n",
       "    <tr>\n",
       "      <th>0</th>\n",
       "      <td>Zoe</td>\n",
       "      <td>32.0</td>\n",
       "      <td>NaN</td>\n",
       "      <td>59.0</td>\n",
       "      <td>banana</td>\n",
       "    </tr>\n",
       "    <tr>\n",
       "      <th>1</th>\n",
       "      <td>Sam</td>\n",
       "      <td>NaN</td>\n",
       "      <td>M</td>\n",
       "      <td>NaN</td>\n",
       "      <td>peach</td>\n",
       "    </tr>\n",
       "    <tr>\n",
       "      <th>2</th>\n",
       "      <td>Danny</td>\n",
       "      <td>46.0</td>\n",
       "      <td>M</td>\n",
       "      <td>81.0</td>\n",
       "      <td>apple</td>\n",
       "    </tr>\n",
       "  </tbody>\n",
       "</table>\n",
       "</div>"
      ],
      "text/plain": [
       "    name   age  sex  grade   fruit\n",
       "0    Zoe  32.0  NaN   59.0  banana\n",
       "1    Sam   NaN    M    NaN   peach\n",
       "2  Danny  46.0    M   81.0   apple"
      ]
     },
     "execution_count": 3,
     "metadata": {},
     "output_type": "execute_result"
    }
   ],
   "source": [
    "x = pd.DataFrame([['Zoe', 32, np.nan, 59, 'banana'],\n",
    "                  ['Sam', np.nan, 'M', np.nan, 'peach'],\n",
    "                  ['Danny', 46, 'M', 81, 'apple']], columns=['name', 'age', 'sex', 'grade', 'fruit'])\n",
    "x"
   ]
  },
  {
   "cell_type": "code",
   "execution_count": 4,
   "id": "6cc48392",
   "metadata": {
    "ExecuteTime": {
     "end_time": "2021-08-10T03:07:58.350707Z",
     "start_time": "2021-08-10T03:07:58.330703Z"
    }
   },
   "outputs": [
    {
     "data": {
      "text/html": [
       "<div>\n",
       "<style scoped>\n",
       "    .dataframe tbody tr th:only-of-type {\n",
       "        vertical-align: middle;\n",
       "    }\n",
       "\n",
       "    .dataframe tbody tr th {\n",
       "        vertical-align: top;\n",
       "    }\n",
       "\n",
       "    .dataframe thead th {\n",
       "        text-align: right;\n",
       "    }\n",
       "</style>\n",
       "<table border=\"1\" class=\"dataframe\">\n",
       "  <thead>\n",
       "    <tr style=\"text-align: right;\">\n",
       "      <th></th>\n",
       "      <th>name</th>\n",
       "      <th>age</th>\n",
       "      <th>sex</th>\n",
       "      <th>grade</th>\n",
       "      <th>fruit</th>\n",
       "    </tr>\n",
       "  </thead>\n",
       "  <tbody>\n",
       "    <tr>\n",
       "      <th>0</th>\n",
       "      <td>False</td>\n",
       "      <td>False</td>\n",
       "      <td>True</td>\n",
       "      <td>False</td>\n",
       "      <td>False</td>\n",
       "    </tr>\n",
       "    <tr>\n",
       "      <th>1</th>\n",
       "      <td>False</td>\n",
       "      <td>True</td>\n",
       "      <td>False</td>\n",
       "      <td>True</td>\n",
       "      <td>False</td>\n",
       "    </tr>\n",
       "    <tr>\n",
       "      <th>2</th>\n",
       "      <td>False</td>\n",
       "      <td>False</td>\n",
       "      <td>False</td>\n",
       "      <td>False</td>\n",
       "      <td>False</td>\n",
       "    </tr>\n",
       "  </tbody>\n",
       "</table>\n",
       "</div>"
      ],
      "text/plain": [
       "    name    age    sex  grade  fruit\n",
       "0  False  False   True  False  False\n",
       "1  False   True  False   True  False\n",
       "2  False  False  False  False  False"
      ]
     },
     "execution_count": 4,
     "metadata": {},
     "output_type": "execute_result"
    }
   ],
   "source": [
    "x.isnull()"
   ]
  },
  {
   "cell_type": "code",
   "execution_count": 5,
   "id": "ec5eef44",
   "metadata": {
    "ExecuteTime": {
     "end_time": "2021-08-10T03:08:06.920362Z",
     "start_time": "2021-08-10T03:08:06.899363Z"
    }
   },
   "outputs": [
    {
     "data": {
      "text/plain": [
       "name     0\n",
       "age      1\n",
       "sex      1\n",
       "grade    1\n",
       "fruit    0\n",
       "dtype: int64"
      ]
     },
     "execution_count": 5,
     "metadata": {},
     "output_type": "execute_result"
    }
   ],
   "source": [
    "x.isnull().sum()"
   ]
  },
  {
   "cell_type": "code",
   "execution_count": 6,
   "id": "0447bd68",
   "metadata": {
    "ExecuteTime": {
     "end_time": "2021-08-10T03:08:39.853548Z",
     "start_time": "2021-08-10T03:08:39.836546Z"
    }
   },
   "outputs": [
    {
     "data": {
      "text/plain": [
       "name     0\n",
       "age      1\n",
       "sex      1\n",
       "grade    1\n",
       "fruit    0\n",
       "dtype: int64"
      ]
     },
     "execution_count": 6,
     "metadata": {},
     "output_type": "execute_result"
    }
   ],
   "source": [
    "x.isna().sum()"
   ]
  },
  {
   "cell_type": "code",
   "execution_count": 7,
   "id": "bf96231f",
   "metadata": {
    "ExecuteTime": {
     "end_time": "2021-08-10T03:08:55.731566Z",
     "start_time": "2021-08-10T03:08:55.720567Z"
    }
   },
   "outputs": [
    {
     "data": {
      "text/html": [
       "<div>\n",
       "<style scoped>\n",
       "    .dataframe tbody tr th:only-of-type {\n",
       "        vertical-align: middle;\n",
       "    }\n",
       "\n",
       "    .dataframe tbody tr th {\n",
       "        vertical-align: top;\n",
       "    }\n",
       "\n",
       "    .dataframe thead th {\n",
       "        text-align: right;\n",
       "    }\n",
       "</style>\n",
       "<table border=\"1\" class=\"dataframe\">\n",
       "  <thead>\n",
       "    <tr style=\"text-align: right;\">\n",
       "      <th></th>\n",
       "      <th>name</th>\n",
       "      <th>age</th>\n",
       "      <th>sex</th>\n",
       "      <th>grade</th>\n",
       "      <th>fruit</th>\n",
       "    </tr>\n",
       "  </thead>\n",
       "  <tbody>\n",
       "    <tr>\n",
       "      <th>0</th>\n",
       "      <td>True</td>\n",
       "      <td>True</td>\n",
       "      <td>False</td>\n",
       "      <td>True</td>\n",
       "      <td>True</td>\n",
       "    </tr>\n",
       "    <tr>\n",
       "      <th>1</th>\n",
       "      <td>True</td>\n",
       "      <td>False</td>\n",
       "      <td>True</td>\n",
       "      <td>False</td>\n",
       "      <td>True</td>\n",
       "    </tr>\n",
       "    <tr>\n",
       "      <th>2</th>\n",
       "      <td>True</td>\n",
       "      <td>True</td>\n",
       "      <td>True</td>\n",
       "      <td>True</td>\n",
       "      <td>True</td>\n",
       "    </tr>\n",
       "  </tbody>\n",
       "</table>\n",
       "</div>"
      ],
      "text/plain": [
       "   name    age    sex  grade  fruit\n",
       "0  True   True  False   True   True\n",
       "1  True  False   True  False   True\n",
       "2  True   True   True   True   True"
      ]
     },
     "execution_count": 7,
     "metadata": {},
     "output_type": "execute_result"
    }
   ],
   "source": [
    "x.notnull()"
   ]
  },
  {
   "cell_type": "code",
   "execution_count": 8,
   "id": "b5409482",
   "metadata": {
    "ExecuteTime": {
     "end_time": "2021-08-10T03:09:11.733012Z",
     "start_time": "2021-08-10T03:09:11.715954Z"
    }
   },
   "outputs": [
    {
     "data": {
      "text/plain": [
       "name     3\n",
       "age      2\n",
       "sex      2\n",
       "grade    2\n",
       "fruit    3\n",
       "dtype: int64"
      ]
     },
     "execution_count": 8,
     "metadata": {},
     "output_type": "execute_result"
    }
   ],
   "source": [
    "x.notnull().sum()"
   ]
  },
  {
   "cell_type": "code",
   "execution_count": 9,
   "id": "e5613c29",
   "metadata": {
    "ExecuteTime": {
     "end_time": "2021-08-10T03:09:24.550477Z",
     "start_time": "2021-08-10T03:09:24.523567Z"
    }
   },
   "outputs": [
    {
     "data": {
      "text/html": [
       "<div>\n",
       "<style scoped>\n",
       "    .dataframe tbody tr th:only-of-type {\n",
       "        vertical-align: middle;\n",
       "    }\n",
       "\n",
       "    .dataframe tbody tr th {\n",
       "        vertical-align: top;\n",
       "    }\n",
       "\n",
       "    .dataframe thead th {\n",
       "        text-align: right;\n",
       "    }\n",
       "</style>\n",
       "<table border=\"1\" class=\"dataframe\">\n",
       "  <thead>\n",
       "    <tr style=\"text-align: right;\">\n",
       "      <th></th>\n",
       "      <th>name</th>\n",
       "      <th>age</th>\n",
       "      <th>sex</th>\n",
       "      <th>grade</th>\n",
       "      <th>fruit</th>\n",
       "    </tr>\n",
       "  </thead>\n",
       "  <tbody>\n",
       "    <tr>\n",
       "      <th>2</th>\n",
       "      <td>Danny</td>\n",
       "      <td>46.0</td>\n",
       "      <td>M</td>\n",
       "      <td>81.0</td>\n",
       "      <td>apple</td>\n",
       "    </tr>\n",
       "  </tbody>\n",
       "</table>\n",
       "</div>"
      ],
      "text/plain": [
       "    name   age sex  grade  fruit\n",
       "2  Danny  46.0   M   81.0  apple"
      ]
     },
     "execution_count": 9,
     "metadata": {},
     "output_type": "execute_result"
    }
   ],
   "source": [
    "x.dropna() #只要有nan的row都清除掉"
   ]
  },
  {
   "cell_type": "code",
   "execution_count": 10,
   "id": "29994891",
   "metadata": {
    "ExecuteTime": {
     "end_time": "2021-08-10T03:10:34.431105Z",
     "start_time": "2021-08-10T03:10:34.398585Z"
    }
   },
   "outputs": [
    {
     "data": {
      "text/html": [
       "<div>\n",
       "<style scoped>\n",
       "    .dataframe tbody tr th:only-of-type {\n",
       "        vertical-align: middle;\n",
       "    }\n",
       "\n",
       "    .dataframe tbody tr th {\n",
       "        vertical-align: top;\n",
       "    }\n",
       "\n",
       "    .dataframe thead th {\n",
       "        text-align: right;\n",
       "    }\n",
       "</style>\n",
       "<table border=\"1\" class=\"dataframe\">\n",
       "  <thead>\n",
       "    <tr style=\"text-align: right;\">\n",
       "      <th></th>\n",
       "      <th>name</th>\n",
       "      <th>age</th>\n",
       "      <th>sex</th>\n",
       "      <th>grade</th>\n",
       "      <th>fruit</th>\n",
       "    </tr>\n",
       "  </thead>\n",
       "  <tbody>\n",
       "    <tr>\n",
       "      <th>1</th>\n",
       "      <td>Sam</td>\n",
       "      <td>NaN</td>\n",
       "      <td>M</td>\n",
       "      <td>NaN</td>\n",
       "      <td>peach</td>\n",
       "    </tr>\n",
       "    <tr>\n",
       "      <th>2</th>\n",
       "      <td>Danny</td>\n",
       "      <td>46.0</td>\n",
       "      <td>M</td>\n",
       "      <td>81.0</td>\n",
       "      <td>apple</td>\n",
       "    </tr>\n",
       "  </tbody>\n",
       "</table>\n",
       "</div>"
      ],
      "text/plain": [
       "    name   age sex  grade  fruit\n",
       "1    Sam   NaN   M    NaN  peach\n",
       "2  Danny  46.0   M   81.0  apple"
      ]
     },
     "execution_count": 10,
     "metadata": {},
     "output_type": "execute_result"
    }
   ],
   "source": [
    "x.dropna(subset=['sex'])"
   ]
  },
  {
   "cell_type": "code",
   "execution_count": 11,
   "id": "555ec185",
   "metadata": {
    "ExecuteTime": {
     "end_time": "2021-08-10T03:11:15.451821Z",
     "start_time": "2021-08-10T03:11:15.426027Z"
    }
   },
   "outputs": [
    {
     "data": {
      "text/html": [
       "<div>\n",
       "<style scoped>\n",
       "    .dataframe tbody tr th:only-of-type {\n",
       "        vertical-align: middle;\n",
       "    }\n",
       "\n",
       "    .dataframe tbody tr th {\n",
       "        vertical-align: top;\n",
       "    }\n",
       "\n",
       "    .dataframe thead th {\n",
       "        text-align: right;\n",
       "    }\n",
       "</style>\n",
       "<table border=\"1\" class=\"dataframe\">\n",
       "  <thead>\n",
       "    <tr style=\"text-align: right;\">\n",
       "      <th></th>\n",
       "      <th>name</th>\n",
       "      <th>age</th>\n",
       "      <th>sex</th>\n",
       "      <th>grade</th>\n",
       "      <th>fruit</th>\n",
       "    </tr>\n",
       "  </thead>\n",
       "  <tbody>\n",
       "    <tr>\n",
       "      <th>0</th>\n",
       "      <td>Zoe</td>\n",
       "      <td>32.0</td>\n",
       "      <td>99</td>\n",
       "      <td>59.0</td>\n",
       "      <td>banana</td>\n",
       "    </tr>\n",
       "    <tr>\n",
       "      <th>1</th>\n",
       "      <td>Sam</td>\n",
       "      <td>99.0</td>\n",
       "      <td>M</td>\n",
       "      <td>99.0</td>\n",
       "      <td>peach</td>\n",
       "    </tr>\n",
       "    <tr>\n",
       "      <th>2</th>\n",
       "      <td>Danny</td>\n",
       "      <td>46.0</td>\n",
       "      <td>M</td>\n",
       "      <td>81.0</td>\n",
       "      <td>apple</td>\n",
       "    </tr>\n",
       "  </tbody>\n",
       "</table>\n",
       "</div>"
      ],
      "text/plain": [
       "    name   age sex  grade   fruit\n",
       "0    Zoe  32.0  99   59.0  banana\n",
       "1    Sam  99.0   M   99.0   peach\n",
       "2  Danny  46.0   M   81.0   apple"
      ]
     },
     "execution_count": 11,
     "metadata": {},
     "output_type": "execute_result"
    }
   ],
   "source": [
    "x.fillna(99)"
   ]
  },
  {
   "cell_type": "code",
   "execution_count": 14,
   "id": "8137c2d2",
   "metadata": {
    "ExecuteTime": {
     "end_time": "2021-08-10T03:12:00.202501Z",
     "start_time": "2021-08-10T03:12:00.183974Z"
    }
   },
   "outputs": [
    {
     "name": "stderr",
     "output_type": "stream",
     "text": [
      "<ipython-input-14-db3813443cc9>:1: FutureWarning: Dropping of nuisance columns in DataFrame reductions (with 'numeric_only=None') is deprecated; in a future version this will raise TypeError.  Select only valid columns before calling the reduction.\n",
      "  x.fillna(x.mean())\n"
     ]
    },
    {
     "data": {
      "text/html": [
       "<div>\n",
       "<style scoped>\n",
       "    .dataframe tbody tr th:only-of-type {\n",
       "        vertical-align: middle;\n",
       "    }\n",
       "\n",
       "    .dataframe tbody tr th {\n",
       "        vertical-align: top;\n",
       "    }\n",
       "\n",
       "    .dataframe thead th {\n",
       "        text-align: right;\n",
       "    }\n",
       "</style>\n",
       "<table border=\"1\" class=\"dataframe\">\n",
       "  <thead>\n",
       "    <tr style=\"text-align: right;\">\n",
       "      <th></th>\n",
       "      <th>name</th>\n",
       "      <th>age</th>\n",
       "      <th>sex</th>\n",
       "      <th>grade</th>\n",
       "      <th>fruit</th>\n",
       "    </tr>\n",
       "  </thead>\n",
       "  <tbody>\n",
       "    <tr>\n",
       "      <th>0</th>\n",
       "      <td>Zoe</td>\n",
       "      <td>32.0</td>\n",
       "      <td>NaN</td>\n",
       "      <td>59.0</td>\n",
       "      <td>banana</td>\n",
       "    </tr>\n",
       "    <tr>\n",
       "      <th>1</th>\n",
       "      <td>Sam</td>\n",
       "      <td>39.0</td>\n",
       "      <td>M</td>\n",
       "      <td>70.0</td>\n",
       "      <td>peach</td>\n",
       "    </tr>\n",
       "    <tr>\n",
       "      <th>2</th>\n",
       "      <td>Danny</td>\n",
       "      <td>46.0</td>\n",
       "      <td>M</td>\n",
       "      <td>81.0</td>\n",
       "      <td>apple</td>\n",
       "    </tr>\n",
       "  </tbody>\n",
       "</table>\n",
       "</div>"
      ],
      "text/plain": [
       "    name   age  sex  grade   fruit\n",
       "0    Zoe  32.0  NaN   59.0  banana\n",
       "1    Sam  39.0    M   70.0   peach\n",
       "2  Danny  46.0    M   81.0   apple"
      ]
     },
     "execution_count": 14,
     "metadata": {},
     "output_type": "execute_result"
    }
   ],
   "source": [
    "x.fillna(x.mean())"
   ]
  },
  {
   "cell_type": "code",
   "execution_count": 15,
   "id": "885e7257",
   "metadata": {
    "ExecuteTime": {
     "end_time": "2021-08-10T03:12:18.155071Z",
     "start_time": "2021-08-10T03:12:18.129554Z"
    }
   },
   "outputs": [
    {
     "name": "stderr",
     "output_type": "stream",
     "text": [
      "<ipython-input-15-e931a9d76032>:1: FutureWarning: Dropping of nuisance columns in DataFrame reductions (with 'numeric_only=None') is deprecated; in a future version this will raise TypeError.  Select only valid columns before calling the reduction.\n",
      "  x.fillna(x.min())\n"
     ]
    },
    {
     "data": {
      "text/html": [
       "<div>\n",
       "<style scoped>\n",
       "    .dataframe tbody tr th:only-of-type {\n",
       "        vertical-align: middle;\n",
       "    }\n",
       "\n",
       "    .dataframe tbody tr th {\n",
       "        vertical-align: top;\n",
       "    }\n",
       "\n",
       "    .dataframe thead th {\n",
       "        text-align: right;\n",
       "    }\n",
       "</style>\n",
       "<table border=\"1\" class=\"dataframe\">\n",
       "  <thead>\n",
       "    <tr style=\"text-align: right;\">\n",
       "      <th></th>\n",
       "      <th>name</th>\n",
       "      <th>age</th>\n",
       "      <th>sex</th>\n",
       "      <th>grade</th>\n",
       "      <th>fruit</th>\n",
       "    </tr>\n",
       "  </thead>\n",
       "  <tbody>\n",
       "    <tr>\n",
       "      <th>0</th>\n",
       "      <td>Zoe</td>\n",
       "      <td>32.0</td>\n",
       "      <td>NaN</td>\n",
       "      <td>59.0</td>\n",
       "      <td>banana</td>\n",
       "    </tr>\n",
       "    <tr>\n",
       "      <th>1</th>\n",
       "      <td>Sam</td>\n",
       "      <td>32.0</td>\n",
       "      <td>M</td>\n",
       "      <td>59.0</td>\n",
       "      <td>peach</td>\n",
       "    </tr>\n",
       "    <tr>\n",
       "      <th>2</th>\n",
       "      <td>Danny</td>\n",
       "      <td>46.0</td>\n",
       "      <td>M</td>\n",
       "      <td>81.0</td>\n",
       "      <td>apple</td>\n",
       "    </tr>\n",
       "  </tbody>\n",
       "</table>\n",
       "</div>"
      ],
      "text/plain": [
       "    name   age  sex  grade   fruit\n",
       "0    Zoe  32.0  NaN   59.0  banana\n",
       "1    Sam  32.0    M   59.0   peach\n",
       "2  Danny  46.0    M   81.0   apple"
      ]
     },
     "execution_count": 15,
     "metadata": {},
     "output_type": "execute_result"
    }
   ],
   "source": [
    "x.fillna(x.min())"
   ]
  },
  {
   "cell_type": "code",
   "execution_count": 16,
   "id": "bc4bc96f",
   "metadata": {
    "ExecuteTime": {
     "end_time": "2021-08-10T03:12:23.294145Z",
     "start_time": "2021-08-10T03:12:23.272787Z"
    }
   },
   "outputs": [
    {
     "name": "stderr",
     "output_type": "stream",
     "text": [
      "<ipython-input-16-c54e4dcc1547>:1: FutureWarning: Dropping of nuisance columns in DataFrame reductions (with 'numeric_only=None') is deprecated; in a future version this will raise TypeError.  Select only valid columns before calling the reduction.\n",
      "  x.fillna(x.max())\n"
     ]
    },
    {
     "data": {
      "text/html": [
       "<div>\n",
       "<style scoped>\n",
       "    .dataframe tbody tr th:only-of-type {\n",
       "        vertical-align: middle;\n",
       "    }\n",
       "\n",
       "    .dataframe tbody tr th {\n",
       "        vertical-align: top;\n",
       "    }\n",
       "\n",
       "    .dataframe thead th {\n",
       "        text-align: right;\n",
       "    }\n",
       "</style>\n",
       "<table border=\"1\" class=\"dataframe\">\n",
       "  <thead>\n",
       "    <tr style=\"text-align: right;\">\n",
       "      <th></th>\n",
       "      <th>name</th>\n",
       "      <th>age</th>\n",
       "      <th>sex</th>\n",
       "      <th>grade</th>\n",
       "      <th>fruit</th>\n",
       "    </tr>\n",
       "  </thead>\n",
       "  <tbody>\n",
       "    <tr>\n",
       "      <th>0</th>\n",
       "      <td>Zoe</td>\n",
       "      <td>32.0</td>\n",
       "      <td>NaN</td>\n",
       "      <td>59.0</td>\n",
       "      <td>banana</td>\n",
       "    </tr>\n",
       "    <tr>\n",
       "      <th>1</th>\n",
       "      <td>Sam</td>\n",
       "      <td>46.0</td>\n",
       "      <td>M</td>\n",
       "      <td>81.0</td>\n",
       "      <td>peach</td>\n",
       "    </tr>\n",
       "    <tr>\n",
       "      <th>2</th>\n",
       "      <td>Danny</td>\n",
       "      <td>46.0</td>\n",
       "      <td>M</td>\n",
       "      <td>81.0</td>\n",
       "      <td>apple</td>\n",
       "    </tr>\n",
       "  </tbody>\n",
       "</table>\n",
       "</div>"
      ],
      "text/plain": [
       "    name   age  sex  grade   fruit\n",
       "0    Zoe  32.0  NaN   59.0  banana\n",
       "1    Sam  46.0    M   81.0   peach\n",
       "2  Danny  46.0    M   81.0   apple"
      ]
     },
     "execution_count": 16,
     "metadata": {},
     "output_type": "execute_result"
    }
   ],
   "source": [
    "x.fillna(x.max())"
   ]
  },
  {
   "cell_type": "code",
   "execution_count": 17,
   "id": "9eefddce",
   "metadata": {
    "ExecuteTime": {
     "end_time": "2021-08-10T03:12:50.212476Z",
     "start_time": "2021-08-10T03:12:50.198967Z"
    }
   },
   "outputs": [
    {
     "data": {
      "text/plain": [
       "0    32.0\n",
       "1     0.0\n",
       "2    46.0\n",
       "Name: age, dtype: float64"
      ]
     },
     "execution_count": 17,
     "metadata": {},
     "output_type": "execute_result"
    }
   ],
   "source": [
    "x['age'].fillna(0)"
   ]
  },
  {
   "cell_type": "code",
   "execution_count": 51,
   "id": "cb74c0c2",
   "metadata": {
    "ExecuteTime": {
     "end_time": "2021-08-10T03:30:53.914848Z",
     "start_time": "2021-08-10T03:30:53.898846Z"
    }
   },
   "outputs": [
    {
     "data": {
      "text/html": [
       "<div>\n",
       "<style scoped>\n",
       "    .dataframe tbody tr th:only-of-type {\n",
       "        vertical-align: middle;\n",
       "    }\n",
       "\n",
       "    .dataframe tbody tr th {\n",
       "        vertical-align: top;\n",
       "    }\n",
       "\n",
       "    .dataframe thead th {\n",
       "        text-align: right;\n",
       "    }\n",
       "</style>\n",
       "<table border=\"1\" class=\"dataframe\">\n",
       "  <thead>\n",
       "    <tr style=\"text-align: right;\">\n",
       "      <th></th>\n",
       "      <th>name</th>\n",
       "      <th>age</th>\n",
       "      <th>sex</th>\n",
       "      <th>grade</th>\n",
       "      <th>fruit</th>\n",
       "      <th>grade_map</th>\n",
       "      <th>grade_apply</th>\n",
       "    </tr>\n",
       "  </thead>\n",
       "  <tbody>\n",
       "    <tr>\n",
       "      <th>0</th>\n",
       "      <td>Zoe</td>\n",
       "      <td>32.0</td>\n",
       "      <td>F</td>\n",
       "      <td>59.0</td>\n",
       "      <td>banana</td>\n",
       "      <td>F</td>\n",
       "      <td>F</td>\n",
       "    </tr>\n",
       "    <tr>\n",
       "      <th>1</th>\n",
       "      <td>Sam</td>\n",
       "      <td>22.0</td>\n",
       "      <td>M</td>\n",
       "      <td>44.0</td>\n",
       "      <td>peach</td>\n",
       "      <td>A</td>\n",
       "      <td>A</td>\n",
       "    </tr>\n",
       "    <tr>\n",
       "      <th>2</th>\n",
       "      <td>Danny</td>\n",
       "      <td>46.0</td>\n",
       "      <td>M</td>\n",
       "      <td>81.0</td>\n",
       "      <td>apple</td>\n",
       "      <td>B</td>\n",
       "      <td>B</td>\n",
       "    </tr>\n",
       "  </tbody>\n",
       "</table>\n",
       "</div>"
      ],
      "text/plain": [
       "    name   age sex  grade   fruit grade_map grade_apply\n",
       "0    Zoe  32.0   F   59.0  banana         F           F\n",
       "1    Sam  22.0   M   44.0   peach         A           A\n",
       "2  Danny  46.0   M   81.0   apple         B           B"
      ]
     },
     "execution_count": 51,
     "metadata": {},
     "output_type": "execute_result"
    }
   ],
   "source": [
    "x.fillna({'age':22,'sex':'F','grade':44})"
   ]
  },
  {
   "cell_type": "code",
   "execution_count": 19,
   "id": "a946ef84",
   "metadata": {
    "ExecuteTime": {
     "end_time": "2021-08-10T03:15:31.307803Z",
     "start_time": "2021-08-10T03:15:31.288801Z"
    }
   },
   "outputs": [
    {
     "data": {
      "text/html": [
       "<div>\n",
       "<style scoped>\n",
       "    .dataframe tbody tr th:only-of-type {\n",
       "        vertical-align: middle;\n",
       "    }\n",
       "\n",
       "    .dataframe tbody tr th {\n",
       "        vertical-align: top;\n",
       "    }\n",
       "\n",
       "    .dataframe thead th {\n",
       "        text-align: right;\n",
       "    }\n",
       "</style>\n",
       "<table border=\"1\" class=\"dataframe\">\n",
       "  <thead>\n",
       "    <tr style=\"text-align: right;\">\n",
       "      <th></th>\n",
       "      <th>name</th>\n",
       "      <th>age</th>\n",
       "      <th>sex</th>\n",
       "      <th>grade</th>\n",
       "      <th>fruit</th>\n",
       "    </tr>\n",
       "  </thead>\n",
       "  <tbody>\n",
       "    <tr>\n",
       "      <th>0</th>\n",
       "      <td>Zoe</td>\n",
       "      <td>32.0</td>\n",
       "      <td>NaN</td>\n",
       "      <td>59.0</td>\n",
       "      <td>banana</td>\n",
       "    </tr>\n",
       "    <tr>\n",
       "      <th>1</th>\n",
       "      <td>Sam</td>\n",
       "      <td>NaN</td>\n",
       "      <td>M</td>\n",
       "      <td>NaN</td>\n",
       "      <td>peach</td>\n",
       "    </tr>\n",
       "    <tr>\n",
       "      <th>2</th>\n",
       "      <td>Danny</td>\n",
       "      <td>46.0</td>\n",
       "      <td>M</td>\n",
       "      <td>81.0</td>\n",
       "      <td>apple</td>\n",
       "    </tr>\n",
       "    <tr>\n",
       "      <th>0</th>\n",
       "      <td>Zoe</td>\n",
       "      <td>32.0</td>\n",
       "      <td>NaN</td>\n",
       "      <td>59.0</td>\n",
       "      <td>banana</td>\n",
       "    </tr>\n",
       "    <tr>\n",
       "      <th>1</th>\n",
       "      <td>Sam</td>\n",
       "      <td>NaN</td>\n",
       "      <td>M</td>\n",
       "      <td>NaN</td>\n",
       "      <td>peach</td>\n",
       "    </tr>\n",
       "    <tr>\n",
       "      <th>2</th>\n",
       "      <td>Danny</td>\n",
       "      <td>46.0</td>\n",
       "      <td>M</td>\n",
       "      <td>81.0</td>\n",
       "      <td>apple</td>\n",
       "    </tr>\n",
       "  </tbody>\n",
       "</table>\n",
       "</div>"
      ],
      "text/plain": [
       "    name   age  sex  grade   fruit\n",
       "0    Zoe  32.0  NaN   59.0  banana\n",
       "1    Sam   NaN    M    NaN   peach\n",
       "2  Danny  46.0    M   81.0   apple\n",
       "0    Zoe  32.0  NaN   59.0  banana\n",
       "1    Sam   NaN    M    NaN   peach\n",
       "2  Danny  46.0    M   81.0   apple"
      ]
     },
     "execution_count": 19,
     "metadata": {},
     "output_type": "execute_result"
    }
   ],
   "source": [
    "#append\n",
    "x.append(x)"
   ]
  },
  {
   "cell_type": "code",
   "execution_count": 20,
   "id": "b5e0580d",
   "metadata": {
    "ExecuteTime": {
     "end_time": "2021-08-10T03:16:21.619073Z",
     "start_time": "2021-08-10T03:16:21.600067Z"
    }
   },
   "outputs": [
    {
     "data": {
      "text/html": [
       "<div>\n",
       "<style scoped>\n",
       "    .dataframe tbody tr th:only-of-type {\n",
       "        vertical-align: middle;\n",
       "    }\n",
       "\n",
       "    .dataframe tbody tr th {\n",
       "        vertical-align: top;\n",
       "    }\n",
       "\n",
       "    .dataframe thead th {\n",
       "        text-align: right;\n",
       "    }\n",
       "</style>\n",
       "<table border=\"1\" class=\"dataframe\">\n",
       "  <thead>\n",
       "    <tr style=\"text-align: right;\">\n",
       "      <th></th>\n",
       "      <th>name</th>\n",
       "      <th>age</th>\n",
       "      <th>sex</th>\n",
       "      <th>grade</th>\n",
       "      <th>fruit</th>\n",
       "    </tr>\n",
       "  </thead>\n",
       "  <tbody>\n",
       "    <tr>\n",
       "      <th>0</th>\n",
       "      <td>Zoe</td>\n",
       "      <td>32.0</td>\n",
       "      <td>NaN</td>\n",
       "      <td>59.0</td>\n",
       "      <td>banana</td>\n",
       "    </tr>\n",
       "    <tr>\n",
       "      <th>1</th>\n",
       "      <td>Sam</td>\n",
       "      <td>NaN</td>\n",
       "      <td>M</td>\n",
       "      <td>NaN</td>\n",
       "      <td>peach</td>\n",
       "    </tr>\n",
       "    <tr>\n",
       "      <th>2</th>\n",
       "      <td>Danny</td>\n",
       "      <td>46.0</td>\n",
       "      <td>M</td>\n",
       "      <td>81.0</td>\n",
       "      <td>apple</td>\n",
       "    </tr>\n",
       "    <tr>\n",
       "      <th>3</th>\n",
       "      <td>Zoe</td>\n",
       "      <td>32.0</td>\n",
       "      <td>NaN</td>\n",
       "      <td>59.0</td>\n",
       "      <td>banana</td>\n",
       "    </tr>\n",
       "    <tr>\n",
       "      <th>4</th>\n",
       "      <td>Sam</td>\n",
       "      <td>NaN</td>\n",
       "      <td>M</td>\n",
       "      <td>NaN</td>\n",
       "      <td>peach</td>\n",
       "    </tr>\n",
       "    <tr>\n",
       "      <th>5</th>\n",
       "      <td>Danny</td>\n",
       "      <td>46.0</td>\n",
       "      <td>M</td>\n",
       "      <td>81.0</td>\n",
       "      <td>apple</td>\n",
       "    </tr>\n",
       "  </tbody>\n",
       "</table>\n",
       "</div>"
      ],
      "text/plain": [
       "    name   age  sex  grade   fruit\n",
       "0    Zoe  32.0  NaN   59.0  banana\n",
       "1    Sam   NaN    M    NaN   peach\n",
       "2  Danny  46.0    M   81.0   apple\n",
       "3    Zoe  32.0  NaN   59.0  banana\n",
       "4    Sam   NaN    M    NaN   peach\n",
       "5  Danny  46.0    M   81.0   apple"
      ]
     },
     "execution_count": 20,
     "metadata": {},
     "output_type": "execute_result"
    }
   ],
   "source": [
    "x.append(x,ignore_index=True)"
   ]
  },
  {
   "cell_type": "code",
   "execution_count": 23,
   "id": "fef08c7f",
   "metadata": {
    "ExecuteTime": {
     "end_time": "2021-08-10T03:17:56.289950Z",
     "start_time": "2021-08-10T03:17:56.282950Z"
    }
   },
   "outputs": [],
   "source": [
    "x=x.set_index('name')\n",
    "x"
   ]
  },
  {
   "cell_type": "code",
   "execution_count": 24,
   "id": "6a5df93b",
   "metadata": {
    "ExecuteTime": {
     "end_time": "2021-08-10T03:18:00.306576Z",
     "start_time": "2021-08-10T03:18:00.289067Z"
    }
   },
   "outputs": [
    {
     "data": {
      "text/plain": [
       "age        32.0\n",
       "sex         NaN\n",
       "grade      59.0\n",
       "fruit    banana\n",
       "Name: Zoe, dtype: object"
      ]
     },
     "execution_count": 24,
     "metadata": {},
     "output_type": "execute_result"
    }
   ],
   "source": [
    "x.loc['Zoe']"
   ]
  },
  {
   "cell_type": "code",
   "execution_count": 25,
   "id": "f34a71d8",
   "metadata": {
    "ExecuteTime": {
     "end_time": "2021-08-10T03:18:18.251498Z",
     "start_time": "2021-08-10T03:18:18.237496Z"
    }
   },
   "outputs": [
    {
     "data": {
      "text/html": [
       "<div>\n",
       "<style scoped>\n",
       "    .dataframe tbody tr th:only-of-type {\n",
       "        vertical-align: middle;\n",
       "    }\n",
       "\n",
       "    .dataframe tbody tr th {\n",
       "        vertical-align: top;\n",
       "    }\n",
       "\n",
       "    .dataframe thead th {\n",
       "        text-align: right;\n",
       "    }\n",
       "</style>\n",
       "<table border=\"1\" class=\"dataframe\">\n",
       "  <thead>\n",
       "    <tr style=\"text-align: right;\">\n",
       "      <th></th>\n",
       "      <th>name</th>\n",
       "      <th>age</th>\n",
       "      <th>sex</th>\n",
       "      <th>grade</th>\n",
       "      <th>fruit</th>\n",
       "    </tr>\n",
       "  </thead>\n",
       "  <tbody>\n",
       "    <tr>\n",
       "      <th>0</th>\n",
       "      <td>Zoe</td>\n",
       "      <td>32.0</td>\n",
       "      <td>NaN</td>\n",
       "      <td>59.0</td>\n",
       "      <td>banana</td>\n",
       "    </tr>\n",
       "    <tr>\n",
       "      <th>1</th>\n",
       "      <td>Sam</td>\n",
       "      <td>NaN</td>\n",
       "      <td>M</td>\n",
       "      <td>NaN</td>\n",
       "      <td>peach</td>\n",
       "    </tr>\n",
       "    <tr>\n",
       "      <th>2</th>\n",
       "      <td>Danny</td>\n",
       "      <td>46.0</td>\n",
       "      <td>M</td>\n",
       "      <td>81.0</td>\n",
       "      <td>apple</td>\n",
       "    </tr>\n",
       "  </tbody>\n",
       "</table>\n",
       "</div>"
      ],
      "text/plain": [
       "    name   age  sex  grade   fruit\n",
       "0    Zoe  32.0  NaN   59.0  banana\n",
       "1    Sam   NaN    M    NaN   peach\n",
       "2  Danny  46.0    M   81.0   apple"
      ]
     },
     "execution_count": 25,
     "metadata": {},
     "output_type": "execute_result"
    }
   ],
   "source": [
    "x=x.reset_index()\n",
    "x"
   ]
  },
  {
   "cell_type": "code",
   "execution_count": 26,
   "id": "673cff6c",
   "metadata": {
    "ExecuteTime": {
     "end_time": "2021-08-10T03:18:56.266625Z",
     "start_time": "2021-08-10T03:18:56.245121Z"
    }
   },
   "outputs": [
    {
     "data": {
      "text/html": [
       "<div>\n",
       "<style scoped>\n",
       "    .dataframe tbody tr th:only-of-type {\n",
       "        vertical-align: middle;\n",
       "    }\n",
       "\n",
       "    .dataframe tbody tr th {\n",
       "        vertical-align: top;\n",
       "    }\n",
       "\n",
       "    .dataframe thead th {\n",
       "        text-align: right;\n",
       "    }\n",
       "</style>\n",
       "<table border=\"1\" class=\"dataframe\">\n",
       "  <thead>\n",
       "    <tr style=\"text-align: right;\">\n",
       "      <th></th>\n",
       "      <th>name</th>\n",
       "      <th>age</th>\n",
       "      <th>sex</th>\n",
       "      <th>grade</th>\n",
       "      <th>fruit</th>\n",
       "    </tr>\n",
       "  </thead>\n",
       "  <tbody>\n",
       "    <tr>\n",
       "      <th>0</th>\n",
       "      <td>Zoe</td>\n",
       "      <td>32.0</td>\n",
       "      <td>NaN</td>\n",
       "      <td>59.0</td>\n",
       "      <td>banana</td>\n",
       "    </tr>\n",
       "    <tr>\n",
       "      <th>1</th>\n",
       "      <td>Sam</td>\n",
       "      <td>NaN</td>\n",
       "      <td>M</td>\n",
       "      <td>NaN</td>\n",
       "      <td>peach</td>\n",
       "    </tr>\n",
       "    <tr>\n",
       "      <th>2</th>\n",
       "      <td>Danny</td>\n",
       "      <td>46.0</td>\n",
       "      <td>M</td>\n",
       "      <td>81.0</td>\n",
       "      <td>apple</td>\n",
       "    </tr>\n",
       "    <tr>\n",
       "      <th>3</th>\n",
       "      <td>Zoe</td>\n",
       "      <td>32.0</td>\n",
       "      <td>NaN</td>\n",
       "      <td>59.0</td>\n",
       "      <td>banana</td>\n",
       "    </tr>\n",
       "    <tr>\n",
       "      <th>4</th>\n",
       "      <td>Sam</td>\n",
       "      <td>NaN</td>\n",
       "      <td>M</td>\n",
       "      <td>NaN</td>\n",
       "      <td>peach</td>\n",
       "    </tr>\n",
       "    <tr>\n",
       "      <th>5</th>\n",
       "      <td>Danny</td>\n",
       "      <td>46.0</td>\n",
       "      <td>M</td>\n",
       "      <td>81.0</td>\n",
       "      <td>apple</td>\n",
       "    </tr>\n",
       "  </tbody>\n",
       "</table>\n",
       "</div>"
      ],
      "text/plain": [
       "    name   age  sex  grade   fruit\n",
       "0    Zoe  32.0  NaN   59.0  banana\n",
       "1    Sam   NaN    M    NaN   peach\n",
       "2  Danny  46.0    M   81.0   apple\n",
       "3    Zoe  32.0  NaN   59.0  banana\n",
       "4    Sam   NaN    M    NaN   peach\n",
       "5  Danny  46.0    M   81.0   apple"
      ]
     },
     "execution_count": 26,
     "metadata": {},
     "output_type": "execute_result"
    }
   ],
   "source": [
    "x =x.append(x,ignore_index=True)\n",
    "x"
   ]
  },
  {
   "cell_type": "code",
   "execution_count": 27,
   "id": "b24cfb40",
   "metadata": {
    "ExecuteTime": {
     "end_time": "2021-08-10T03:19:47.021372Z",
     "start_time": "2021-08-10T03:19:46.997378Z"
    }
   },
   "outputs": [
    {
     "data": {
      "text/html": [
       "<div>\n",
       "<style scoped>\n",
       "    .dataframe tbody tr th:only-of-type {\n",
       "        vertical-align: middle;\n",
       "    }\n",
       "\n",
       "    .dataframe tbody tr th {\n",
       "        vertical-align: top;\n",
       "    }\n",
       "\n",
       "    .dataframe thead th {\n",
       "        text-align: right;\n",
       "    }\n",
       "</style>\n",
       "<table border=\"1\" class=\"dataframe\">\n",
       "  <thead>\n",
       "    <tr style=\"text-align: right;\">\n",
       "      <th></th>\n",
       "      <th>name</th>\n",
       "      <th>age</th>\n",
       "      <th>sex</th>\n",
       "      <th>grade</th>\n",
       "      <th>fruit</th>\n",
       "    </tr>\n",
       "  </thead>\n",
       "  <tbody>\n",
       "    <tr>\n",
       "      <th>0</th>\n",
       "      <td>Zoe</td>\n",
       "      <td>32.0</td>\n",
       "      <td>NaN</td>\n",
       "      <td>59.0</td>\n",
       "      <td>banana</td>\n",
       "    </tr>\n",
       "    <tr>\n",
       "      <th>1</th>\n",
       "      <td>Sam</td>\n",
       "      <td>NaN</td>\n",
       "      <td>M</td>\n",
       "      <td>NaN</td>\n",
       "      <td>peach</td>\n",
       "    </tr>\n",
       "    <tr>\n",
       "      <th>2</th>\n",
       "      <td>Danny</td>\n",
       "      <td>46.0</td>\n",
       "      <td>M</td>\n",
       "      <td>81.0</td>\n",
       "      <td>apple</td>\n",
       "    </tr>\n",
       "  </tbody>\n",
       "</table>\n",
       "</div>"
      ],
      "text/plain": [
       "    name   age  sex  grade   fruit\n",
       "0    Zoe  32.0  NaN   59.0  banana\n",
       "1    Sam   NaN    M    NaN   peach\n",
       "2  Danny  46.0    M   81.0   apple"
      ]
     },
     "execution_count": 27,
     "metadata": {},
     "output_type": "execute_result"
    }
   ],
   "source": [
    "x.drop_duplicates()"
   ]
  },
  {
   "cell_type": "code",
   "execution_count": 28,
   "id": "2fa7b735",
   "metadata": {
    "ExecuteTime": {
     "end_time": "2021-08-10T03:19:57.758558Z",
     "start_time": "2021-08-10T03:19:57.735533Z"
    }
   },
   "outputs": [
    {
     "data": {
      "text/html": [
       "<div>\n",
       "<style scoped>\n",
       "    .dataframe tbody tr th:only-of-type {\n",
       "        vertical-align: middle;\n",
       "    }\n",
       "\n",
       "    .dataframe tbody tr th {\n",
       "        vertical-align: top;\n",
       "    }\n",
       "\n",
       "    .dataframe thead th {\n",
       "        text-align: right;\n",
       "    }\n",
       "</style>\n",
       "<table border=\"1\" class=\"dataframe\">\n",
       "  <thead>\n",
       "    <tr style=\"text-align: right;\">\n",
       "      <th></th>\n",
       "      <th>name</th>\n",
       "      <th>age</th>\n",
       "      <th>sex</th>\n",
       "      <th>grade</th>\n",
       "      <th>fruit</th>\n",
       "    </tr>\n",
       "  </thead>\n",
       "  <tbody>\n",
       "    <tr>\n",
       "      <th>0</th>\n",
       "      <td>Zoe</td>\n",
       "      <td>32.0</td>\n",
       "      <td>NaN</td>\n",
       "      <td>59.0</td>\n",
       "      <td>banana</td>\n",
       "    </tr>\n",
       "    <tr>\n",
       "      <th>1</th>\n",
       "      <td>Sam</td>\n",
       "      <td>NaN</td>\n",
       "      <td>M</td>\n",
       "      <td>NaN</td>\n",
       "      <td>peach</td>\n",
       "    </tr>\n",
       "    <tr>\n",
       "      <th>2</th>\n",
       "      <td>Danny</td>\n",
       "      <td>46.0</td>\n",
       "      <td>M</td>\n",
       "      <td>81.0</td>\n",
       "      <td>apple</td>\n",
       "    </tr>\n",
       "  </tbody>\n",
       "</table>\n",
       "</div>"
      ],
      "text/plain": [
       "    name   age  sex  grade   fruit\n",
       "0    Zoe  32.0  NaN   59.0  banana\n",
       "1    Sam   NaN    M    NaN   peach\n",
       "2  Danny  46.0    M   81.0   apple"
      ]
     },
     "execution_count": 28,
     "metadata": {},
     "output_type": "execute_result"
    }
   ],
   "source": [
    "x.drop_duplicates('name')"
   ]
  },
  {
   "cell_type": "code",
   "execution_count": 29,
   "id": "e2eb4044",
   "metadata": {
    "ExecuteTime": {
     "end_time": "2021-08-10T03:20:11.315026Z",
     "start_time": "2021-08-10T03:20:11.292517Z"
    }
   },
   "outputs": [
    {
     "data": {
      "text/html": [
       "<div>\n",
       "<style scoped>\n",
       "    .dataframe tbody tr th:only-of-type {\n",
       "        vertical-align: middle;\n",
       "    }\n",
       "\n",
       "    .dataframe tbody tr th {\n",
       "        vertical-align: top;\n",
       "    }\n",
       "\n",
       "    .dataframe thead th {\n",
       "        text-align: right;\n",
       "    }\n",
       "</style>\n",
       "<table border=\"1\" class=\"dataframe\">\n",
       "  <thead>\n",
       "    <tr style=\"text-align: right;\">\n",
       "      <th></th>\n",
       "      <th>name</th>\n",
       "      <th>age</th>\n",
       "      <th>sex</th>\n",
       "      <th>grade</th>\n",
       "      <th>fruit</th>\n",
       "    </tr>\n",
       "  </thead>\n",
       "  <tbody>\n",
       "    <tr>\n",
       "      <th>0</th>\n",
       "      <td>Zoe</td>\n",
       "      <td>32.0</td>\n",
       "      <td>NaN</td>\n",
       "      <td>59.0</td>\n",
       "      <td>banana</td>\n",
       "    </tr>\n",
       "    <tr>\n",
       "      <th>1</th>\n",
       "      <td>Sam</td>\n",
       "      <td>NaN</td>\n",
       "      <td>M</td>\n",
       "      <td>NaN</td>\n",
       "      <td>peach</td>\n",
       "    </tr>\n",
       "  </tbody>\n",
       "</table>\n",
       "</div>"
      ],
      "text/plain": [
       "  name   age  sex  grade   fruit\n",
       "0  Zoe  32.0  NaN   59.0  banana\n",
       "1  Sam   NaN    M    NaN   peach"
      ]
     },
     "execution_count": 29,
     "metadata": {},
     "output_type": "execute_result"
    }
   ],
   "source": [
    "x.drop_duplicates('sex')"
   ]
  },
  {
   "cell_type": "code",
   "execution_count": 30,
   "id": "3239fa6f",
   "metadata": {
    "ExecuteTime": {
     "end_time": "2021-08-10T03:20:57.941489Z",
     "start_time": "2021-08-10T03:20:57.920107Z"
    }
   },
   "outputs": [
    {
     "data": {
      "text/html": [
       "<div>\n",
       "<style scoped>\n",
       "    .dataframe tbody tr th:only-of-type {\n",
       "        vertical-align: middle;\n",
       "    }\n",
       "\n",
       "    .dataframe tbody tr th {\n",
       "        vertical-align: top;\n",
       "    }\n",
       "\n",
       "    .dataframe thead th {\n",
       "        text-align: right;\n",
       "    }\n",
       "</style>\n",
       "<table border=\"1\" class=\"dataframe\">\n",
       "  <thead>\n",
       "    <tr style=\"text-align: right;\">\n",
       "      <th></th>\n",
       "      <th>name</th>\n",
       "      <th>age</th>\n",
       "      <th>sex</th>\n",
       "      <th>grade</th>\n",
       "      <th>fruit</th>\n",
       "    </tr>\n",
       "  </thead>\n",
       "  <tbody>\n",
       "    <tr>\n",
       "      <th>0</th>\n",
       "      <td>Zoe</td>\n",
       "      <td>32.0</td>\n",
       "      <td>NaN</td>\n",
       "      <td>59.0</td>\n",
       "      <td>banana</td>\n",
       "    </tr>\n",
       "    <tr>\n",
       "      <th>1</th>\n",
       "      <td>Sam</td>\n",
       "      <td>NaN</td>\n",
       "      <td>M</td>\n",
       "      <td>NaN</td>\n",
       "      <td>peach</td>\n",
       "    </tr>\n",
       "    <tr>\n",
       "      <th>2</th>\n",
       "      <td>Danny</td>\n",
       "      <td>46.0</td>\n",
       "      <td>M</td>\n",
       "      <td>81.0</td>\n",
       "      <td>apple</td>\n",
       "    </tr>\n",
       "  </tbody>\n",
       "</table>\n",
       "</div>"
      ],
      "text/plain": [
       "    name   age  sex  grade   fruit\n",
       "0    Zoe  32.0  NaN   59.0  banana\n",
       "1    Sam   NaN    M    NaN   peach\n",
       "2  Danny  46.0    M   81.0   apple"
      ]
     },
     "execution_count": 30,
     "metadata": {},
     "output_type": "execute_result"
    }
   ],
   "source": [
    "x.drop_duplicates(keep='first')"
   ]
  },
  {
   "cell_type": "code",
   "execution_count": 31,
   "id": "e9f0ebd9",
   "metadata": {
    "ExecuteTime": {
     "end_time": "2021-08-10T03:21:03.195033Z",
     "start_time": "2021-08-10T03:21:03.178522Z"
    }
   },
   "outputs": [
    {
     "data": {
      "text/html": [
       "<div>\n",
       "<style scoped>\n",
       "    .dataframe tbody tr th:only-of-type {\n",
       "        vertical-align: middle;\n",
       "    }\n",
       "\n",
       "    .dataframe tbody tr th {\n",
       "        vertical-align: top;\n",
       "    }\n",
       "\n",
       "    .dataframe thead th {\n",
       "        text-align: right;\n",
       "    }\n",
       "</style>\n",
       "<table border=\"1\" class=\"dataframe\">\n",
       "  <thead>\n",
       "    <tr style=\"text-align: right;\">\n",
       "      <th></th>\n",
       "      <th>name</th>\n",
       "      <th>age</th>\n",
       "      <th>sex</th>\n",
       "      <th>grade</th>\n",
       "      <th>fruit</th>\n",
       "    </tr>\n",
       "  </thead>\n",
       "  <tbody>\n",
       "    <tr>\n",
       "      <th>3</th>\n",
       "      <td>Zoe</td>\n",
       "      <td>32.0</td>\n",
       "      <td>NaN</td>\n",
       "      <td>59.0</td>\n",
       "      <td>banana</td>\n",
       "    </tr>\n",
       "    <tr>\n",
       "      <th>4</th>\n",
       "      <td>Sam</td>\n",
       "      <td>NaN</td>\n",
       "      <td>M</td>\n",
       "      <td>NaN</td>\n",
       "      <td>peach</td>\n",
       "    </tr>\n",
       "    <tr>\n",
       "      <th>5</th>\n",
       "      <td>Danny</td>\n",
       "      <td>46.0</td>\n",
       "      <td>M</td>\n",
       "      <td>81.0</td>\n",
       "      <td>apple</td>\n",
       "    </tr>\n",
       "  </tbody>\n",
       "</table>\n",
       "</div>"
      ],
      "text/plain": [
       "    name   age  sex  grade   fruit\n",
       "3    Zoe  32.0  NaN   59.0  banana\n",
       "4    Sam   NaN    M    NaN   peach\n",
       "5  Danny  46.0    M   81.0   apple"
      ]
     },
     "execution_count": 31,
     "metadata": {},
     "output_type": "execute_result"
    }
   ],
   "source": [
    "x.drop_duplicates(keep='last')"
   ]
  },
  {
   "cell_type": "code",
   "execution_count": 33,
   "id": "2ac35034",
   "metadata": {
    "ExecuteTime": {
     "end_time": "2021-08-10T03:23:50.363933Z",
     "start_time": "2021-08-10T03:23:50.358931Z"
    }
   },
   "outputs": [],
   "source": [
    "x=x.drop_duplicates()"
   ]
  },
  {
   "cell_type": "code",
   "execution_count": 42,
   "id": "7eb3f81a",
   "metadata": {
    "ExecuteTime": {
     "end_time": "2021-08-10T03:26:49.872087Z",
     "start_time": "2021-08-10T03:26:49.843489Z"
    }
   },
   "outputs": [
    {
     "data": {
      "text/html": [
       "<div>\n",
       "<style scoped>\n",
       "    .dataframe tbody tr th:only-of-type {\n",
       "        vertical-align: middle;\n",
       "    }\n",
       "\n",
       "    .dataframe tbody tr th {\n",
       "        vertical-align: top;\n",
       "    }\n",
       "\n",
       "    .dataframe thead th {\n",
       "        text-align: right;\n",
       "    }\n",
       "</style>\n",
       "<table border=\"1\" class=\"dataframe\">\n",
       "  <thead>\n",
       "    <tr style=\"text-align: right;\">\n",
       "      <th></th>\n",
       "      <th>name</th>\n",
       "      <th>age</th>\n",
       "      <th>sex</th>\n",
       "      <th>grade</th>\n",
       "      <th>fruit</th>\n",
       "      <th>sex_map</th>\n",
       "    </tr>\n",
       "  </thead>\n",
       "  <tbody>\n",
       "    <tr>\n",
       "      <th>0</th>\n",
       "      <td>Zoe</td>\n",
       "      <td>32.0</td>\n",
       "      <td>F</td>\n",
       "      <td>59.0</td>\n",
       "      <td>banana</td>\n",
       "      <td>NaN</td>\n",
       "    </tr>\n",
       "    <tr>\n",
       "      <th>1</th>\n",
       "      <td>Sam</td>\n",
       "      <td>NaN</td>\n",
       "      <td>M</td>\n",
       "      <td>65.0</td>\n",
       "      <td>peach</td>\n",
       "      <td>1.0</td>\n",
       "    </tr>\n",
       "    <tr>\n",
       "      <th>2</th>\n",
       "      <td>Danny</td>\n",
       "      <td>46.0</td>\n",
       "      <td>M</td>\n",
       "      <td>81.0</td>\n",
       "      <td>apple</td>\n",
       "      <td>1.0</td>\n",
       "    </tr>\n",
       "  </tbody>\n",
       "</table>\n",
       "</div>"
      ],
      "text/plain": [
       "    name   age sex  grade   fruit  sex_map\n",
       "0    Zoe  32.0   F   59.0  banana      NaN\n",
       "1    Sam   NaN   M   65.0   peach      1.0\n",
       "2  Danny  46.0   M   81.0   apple      1.0"
      ]
     },
     "execution_count": 42,
     "metadata": {},
     "output_type": "execute_result"
    }
   ],
   "source": [
    "x=x.fillna({'sex':'F','grade':65})\n",
    "x"
   ]
  },
  {
   "cell_type": "code",
   "execution_count": 43,
   "id": "86630b3c",
   "metadata": {
    "ExecuteTime": {
     "end_time": "2021-08-10T03:26:52.635511Z",
     "start_time": "2021-08-10T03:26:52.610489Z"
    }
   },
   "outputs": [
    {
     "data": {
      "text/html": [
       "<div>\n",
       "<style scoped>\n",
       "    .dataframe tbody tr th:only-of-type {\n",
       "        vertical-align: middle;\n",
       "    }\n",
       "\n",
       "    .dataframe tbody tr th {\n",
       "        vertical-align: top;\n",
       "    }\n",
       "\n",
       "    .dataframe thead th {\n",
       "        text-align: right;\n",
       "    }\n",
       "</style>\n",
       "<table border=\"1\" class=\"dataframe\">\n",
       "  <thead>\n",
       "    <tr style=\"text-align: right;\">\n",
       "      <th></th>\n",
       "      <th>name</th>\n",
       "      <th>age</th>\n",
       "      <th>sex</th>\n",
       "      <th>grade</th>\n",
       "      <th>fruit</th>\n",
       "      <th>sex_map</th>\n",
       "    </tr>\n",
       "  </thead>\n",
       "  <tbody>\n",
       "    <tr>\n",
       "      <th>0</th>\n",
       "      <td>Zoe</td>\n",
       "      <td>32.0</td>\n",
       "      <td>F</td>\n",
       "      <td>59.0</td>\n",
       "      <td>banana</td>\n",
       "      <td>0</td>\n",
       "    </tr>\n",
       "    <tr>\n",
       "      <th>1</th>\n",
       "      <td>Sam</td>\n",
       "      <td>NaN</td>\n",
       "      <td>M</td>\n",
       "      <td>65.0</td>\n",
       "      <td>peach</td>\n",
       "      <td>1</td>\n",
       "    </tr>\n",
       "    <tr>\n",
       "      <th>2</th>\n",
       "      <td>Danny</td>\n",
       "      <td>46.0</td>\n",
       "      <td>M</td>\n",
       "      <td>81.0</td>\n",
       "      <td>apple</td>\n",
       "      <td>1</td>\n",
       "    </tr>\n",
       "  </tbody>\n",
       "</table>\n",
       "</div>"
      ],
      "text/plain": [
       "    name   age sex  grade   fruit  sex_map\n",
       "0    Zoe  32.0   F   59.0  banana        0\n",
       "1    Sam   NaN   M   65.0   peach        1\n",
       "2  Danny  46.0   M   81.0   apple        1"
      ]
     },
     "execution_count": 43,
     "metadata": {},
     "output_type": "execute_result"
    }
   ],
   "source": [
    "sex ={'M':1,'F':0}\n",
    "x['sex_map']=x['sex'].map(sex)\n",
    "x"
   ]
  },
  {
   "cell_type": "code",
   "execution_count": 55,
   "id": "6d609367",
   "metadata": {
    "ExecuteTime": {
     "end_time": "2021-08-10T03:32:48.390995Z",
     "start_time": "2021-08-10T03:32:48.380993Z"
    }
   },
   "outputs": [],
   "source": [
    "def letter_grade(g):\n",
    "    if g<60:\n",
    "        letter = 'F'\n",
    "    elif g == np.nan:\n",
    "        letter = 'G'\n",
    "    elif g<70:\n",
    "        letter = 'D'\n",
    "    elif g<80:\n",
    "        letter = 'C'\n",
    "    elif g<90:\n",
    "        letter = 'B'\n",
    "    else:\n",
    "        letter = 'A'\n",
    "    return letter"
   ]
  },
  {
   "cell_type": "code",
   "execution_count": 56,
   "id": "be1a6b48",
   "metadata": {
    "ExecuteTime": {
     "end_time": "2021-08-10T03:32:51.456523Z",
     "start_time": "2021-08-10T03:32:51.441324Z"
    }
   },
   "outputs": [
    {
     "data": {
      "text/html": [
       "<div>\n",
       "<style scoped>\n",
       "    .dataframe tbody tr th:only-of-type {\n",
       "        vertical-align: middle;\n",
       "    }\n",
       "\n",
       "    .dataframe tbody tr th {\n",
       "        vertical-align: top;\n",
       "    }\n",
       "\n",
       "    .dataframe thead th {\n",
       "        text-align: right;\n",
       "    }\n",
       "</style>\n",
       "<table border=\"1\" class=\"dataframe\">\n",
       "  <thead>\n",
       "    <tr style=\"text-align: right;\">\n",
       "      <th></th>\n",
       "      <th>name</th>\n",
       "      <th>age</th>\n",
       "      <th>sex</th>\n",
       "      <th>grade</th>\n",
       "      <th>fruit</th>\n",
       "      <th>grade_map</th>\n",
       "      <th>grade_apply</th>\n",
       "    </tr>\n",
       "  </thead>\n",
       "  <tbody>\n",
       "    <tr>\n",
       "      <th>0</th>\n",
       "      <td>Zoe</td>\n",
       "      <td>32.0</td>\n",
       "      <td>NaN</td>\n",
       "      <td>59.0</td>\n",
       "      <td>banana</td>\n",
       "      <td>F</td>\n",
       "      <td>F</td>\n",
       "    </tr>\n",
       "    <tr>\n",
       "      <th>1</th>\n",
       "      <td>Sam</td>\n",
       "      <td>NaN</td>\n",
       "      <td>M</td>\n",
       "      <td>NaN</td>\n",
       "      <td>peach</td>\n",
       "      <td>A</td>\n",
       "      <td>A</td>\n",
       "    </tr>\n",
       "    <tr>\n",
       "      <th>2</th>\n",
       "      <td>Danny</td>\n",
       "      <td>46.0</td>\n",
       "      <td>M</td>\n",
       "      <td>81.0</td>\n",
       "      <td>apple</td>\n",
       "      <td>B</td>\n",
       "      <td>B</td>\n",
       "    </tr>\n",
       "  </tbody>\n",
       "</table>\n",
       "</div>"
      ],
      "text/plain": [
       "    name   age  sex  grade   fruit grade_map grade_apply\n",
       "0    Zoe  32.0  NaN   59.0  banana         F           F\n",
       "1    Sam   NaN    M    NaN   peach         A           A\n",
       "2  Danny  46.0    M   81.0   apple         B           B"
      ]
     },
     "execution_count": 56,
     "metadata": {},
     "output_type": "execute_result"
    }
   ],
   "source": [
    "x['grade_map'] = x['grade'].map(letter_grade)\n",
    "x"
   ]
  },
  {
   "cell_type": "code",
   "execution_count": 52,
   "id": "e13ad710",
   "metadata": {
    "ExecuteTime": {
     "end_time": "2021-08-10T03:30:59.296598Z",
     "start_time": "2021-08-10T03:30:59.274581Z"
    }
   },
   "outputs": [
    {
     "data": {
      "text/html": [
       "<div>\n",
       "<style scoped>\n",
       "    .dataframe tbody tr th:only-of-type {\n",
       "        vertical-align: middle;\n",
       "    }\n",
       "\n",
       "    .dataframe tbody tr th {\n",
       "        vertical-align: top;\n",
       "    }\n",
       "\n",
       "    .dataframe thead th {\n",
       "        text-align: right;\n",
       "    }\n",
       "</style>\n",
       "<table border=\"1\" class=\"dataframe\">\n",
       "  <thead>\n",
       "    <tr style=\"text-align: right;\">\n",
       "      <th></th>\n",
       "      <th>name</th>\n",
       "      <th>age</th>\n",
       "      <th>sex</th>\n",
       "      <th>grade</th>\n",
       "      <th>fruit</th>\n",
       "      <th>grade_map</th>\n",
       "      <th>grade_apply</th>\n",
       "    </tr>\n",
       "  </thead>\n",
       "  <tbody>\n",
       "    <tr>\n",
       "      <th>0</th>\n",
       "      <td>Zoe</td>\n",
       "      <td>32.0</td>\n",
       "      <td>NaN</td>\n",
       "      <td>59.0</td>\n",
       "      <td>banana</td>\n",
       "      <td>F</td>\n",
       "      <td>F</td>\n",
       "    </tr>\n",
       "    <tr>\n",
       "      <th>1</th>\n",
       "      <td>Sam</td>\n",
       "      <td>NaN</td>\n",
       "      <td>M</td>\n",
       "      <td>NaN</td>\n",
       "      <td>peach</td>\n",
       "      <td>A</td>\n",
       "      <td>A</td>\n",
       "    </tr>\n",
       "    <tr>\n",
       "      <th>2</th>\n",
       "      <td>Danny</td>\n",
       "      <td>46.0</td>\n",
       "      <td>M</td>\n",
       "      <td>81.0</td>\n",
       "      <td>apple</td>\n",
       "      <td>B</td>\n",
       "      <td>B</td>\n",
       "    </tr>\n",
       "  </tbody>\n",
       "</table>\n",
       "</div>"
      ],
      "text/plain": [
       "    name   age  sex  grade   fruit grade_map grade_apply\n",
       "0    Zoe  32.0  NaN   59.0  banana         F           F\n",
       "1    Sam   NaN    M    NaN   peach         A           A\n",
       "2  Danny  46.0    M   81.0   apple         B           B"
      ]
     },
     "execution_count": 52,
     "metadata": {},
     "output_type": "execute_result"
    }
   ],
   "source": [
    "x['grade_apply'] = x['grade'].apply(letter_grade)\n",
    "x"
   ]
  },
  {
   "cell_type": "code",
   "execution_count": 6,
   "id": "bd9b7509",
   "metadata": {
    "ExecuteTime": {
     "end_time": "2021-08-10T03:36:01.252459Z",
     "start_time": "2021-08-10T03:36:01.238948Z"
    }
   },
   "outputs": [
    {
     "data": {
      "text/html": [
       "<div>\n",
       "<style scoped>\n",
       "    .dataframe tbody tr th:only-of-type {\n",
       "        vertical-align: middle;\n",
       "    }\n",
       "\n",
       "    .dataframe tbody tr th {\n",
       "        vertical-align: top;\n",
       "    }\n",
       "\n",
       "    .dataframe thead th {\n",
       "        text-align: right;\n",
       "    }\n",
       "</style>\n",
       "<table border=\"1\" class=\"dataframe\">\n",
       "  <thead>\n",
       "    <tr style=\"text-align: right;\">\n",
       "      <th></th>\n",
       "      <th>apple</th>\n",
       "      <th>banana</th>\n",
       "      <th>peach</th>\n",
       "    </tr>\n",
       "  </thead>\n",
       "  <tbody>\n",
       "    <tr>\n",
       "      <th>0</th>\n",
       "      <td>0</td>\n",
       "      <td>1</td>\n",
       "      <td>0</td>\n",
       "    </tr>\n",
       "    <tr>\n",
       "      <th>1</th>\n",
       "      <td>0</td>\n",
       "      <td>0</td>\n",
       "      <td>1</td>\n",
       "    </tr>\n",
       "    <tr>\n",
       "      <th>2</th>\n",
       "      <td>1</td>\n",
       "      <td>0</td>\n",
       "      <td>0</td>\n",
       "    </tr>\n",
       "  </tbody>\n",
       "</table>\n",
       "</div>"
      ],
      "text/plain": [
       "   apple  banana  peach\n",
       "0      0       1      0\n",
       "1      0       0      1\n",
       "2      1       0      0"
      ]
     },
     "execution_count": 6,
     "metadata": {},
     "output_type": "execute_result"
    }
   ],
   "source": [
    "#one-hot encoding\n",
    "pd.get_dummies(x['fruit'])"
   ]
  },
  {
   "cell_type": "code",
   "execution_count": 7,
   "id": "a42d7989",
   "metadata": {
    "ExecuteTime": {
     "end_time": "2021-08-10T03:36:35.021413Z",
     "start_time": "2021-08-10T03:36:35.014412Z"
    }
   },
   "outputs": [],
   "source": [
    "#cut\n",
    "grades = [45, 82, 56, 77, 90, 69, 72, 79, 85, 95, 62, 65]\n"
   ]
  },
  {
   "cell_type": "code",
   "execution_count": 8,
   "id": "e2ad4606",
   "metadata": {
    "ExecuteTime": {
     "end_time": "2021-08-10T03:36:55.980555Z",
     "start_time": "2021-08-10T03:36:55.948540Z"
    }
   },
   "outputs": [
    {
     "data": {
      "text/plain": [
       "[(44.95, 55.0], (75.0, 85.0], (55.0, 65.0], (75.0, 85.0], (85.0, 95.0], ..., (75.0, 85.0], (75.0, 85.0], (85.0, 95.0], (55.0, 65.0], (55.0, 65.0]]\n",
       "Length: 12\n",
       "Categories (5, interval[float64, right]): [(44.95, 55.0] < (55.0, 65.0] < (65.0, 75.0] < (75.0, 85.0] < (85.0, 95.0]]"
      ]
     },
     "execution_count": 8,
     "metadata": {},
     "output_type": "execute_result"
    }
   ],
   "source": [
    "pd.cut(grades,5) #最大減最小，剪成五組"
   ]
  },
  {
   "cell_type": "code",
   "execution_count": 10,
   "id": "ee27eaf6",
   "metadata": {
    "ExecuteTime": {
     "end_time": "2021-08-10T03:39:03.137817Z",
     "start_time": "2021-08-10T03:39:03.113815Z"
    }
   },
   "outputs": [
    {
     "data": {
      "text/html": [
       "<div>\n",
       "<style scoped>\n",
       "    .dataframe tbody tr th:only-of-type {\n",
       "        vertical-align: middle;\n",
       "    }\n",
       "\n",
       "    .dataframe tbody tr th {\n",
       "        vertical-align: top;\n",
       "    }\n",
       "\n",
       "    .dataframe thead th {\n",
       "        text-align: right;\n",
       "    }\n",
       "</style>\n",
       "<table border=\"1\" class=\"dataframe\">\n",
       "  <thead>\n",
       "    <tr style=\"text-align: right;\">\n",
       "      <th></th>\n",
       "      <th>grades</th>\n",
       "      <th>cut</th>\n",
       "    </tr>\n",
       "  </thead>\n",
       "  <tbody>\n",
       "    <tr>\n",
       "      <th>0</th>\n",
       "      <td>45</td>\n",
       "      <td>(44.95, 55.0]</td>\n",
       "    </tr>\n",
       "    <tr>\n",
       "      <th>1</th>\n",
       "      <td>82</td>\n",
       "      <td>(75.0, 85.0]</td>\n",
       "    </tr>\n",
       "    <tr>\n",
       "      <th>2</th>\n",
       "      <td>56</td>\n",
       "      <td>(55.0, 65.0]</td>\n",
       "    </tr>\n",
       "    <tr>\n",
       "      <th>3</th>\n",
       "      <td>77</td>\n",
       "      <td>(75.0, 85.0]</td>\n",
       "    </tr>\n",
       "    <tr>\n",
       "      <th>4</th>\n",
       "      <td>90</td>\n",
       "      <td>(85.0, 95.0]</td>\n",
       "    </tr>\n",
       "    <tr>\n",
       "      <th>5</th>\n",
       "      <td>69</td>\n",
       "      <td>(65.0, 75.0]</td>\n",
       "    </tr>\n",
       "    <tr>\n",
       "      <th>6</th>\n",
       "      <td>72</td>\n",
       "      <td>(65.0, 75.0]</td>\n",
       "    </tr>\n",
       "    <tr>\n",
       "      <th>7</th>\n",
       "      <td>79</td>\n",
       "      <td>(75.0, 85.0]</td>\n",
       "    </tr>\n",
       "    <tr>\n",
       "      <th>8</th>\n",
       "      <td>85</td>\n",
       "      <td>(75.0, 85.0]</td>\n",
       "    </tr>\n",
       "    <tr>\n",
       "      <th>9</th>\n",
       "      <td>95</td>\n",
       "      <td>(85.0, 95.0]</td>\n",
       "    </tr>\n",
       "    <tr>\n",
       "      <th>10</th>\n",
       "      <td>62</td>\n",
       "      <td>(55.0, 65.0]</td>\n",
       "    </tr>\n",
       "    <tr>\n",
       "      <th>11</th>\n",
       "      <td>65</td>\n",
       "      <td>(55.0, 65.0]</td>\n",
       "    </tr>\n",
       "  </tbody>\n",
       "</table>\n",
       "</div>"
      ],
      "text/plain": [
       "    grades            cut\n",
       "0       45  (44.95, 55.0]\n",
       "1       82   (75.0, 85.0]\n",
       "2       56   (55.0, 65.0]\n",
       "3       77   (75.0, 85.0]\n",
       "4       90   (85.0, 95.0]\n",
       "5       69   (65.0, 75.0]\n",
       "6       72   (65.0, 75.0]\n",
       "7       79   (75.0, 85.0]\n",
       "8       85   (75.0, 85.0]\n",
       "9       95   (85.0, 95.0]\n",
       "10      62   (55.0, 65.0]\n",
       "11      65   (55.0, 65.0]"
      ]
     },
     "execution_count": 10,
     "metadata": {},
     "output_type": "execute_result"
    }
   ],
   "source": [
    "df =pd.DataFrame({'grades':grades,'cut':pd.cut(grades,5)})\n",
    "df"
   ]
  },
  {
   "cell_type": "code",
   "execution_count": 11,
   "id": "c516233c",
   "metadata": {
    "ExecuteTime": {
     "end_time": "2021-08-10T03:41:52.078468Z",
     "start_time": "2021-08-10T03:41:52.058433Z"
    }
   },
   "outputs": [
    {
     "data": {
      "text/plain": [
       "Interval(44.95, 55.0, closed='right')"
      ]
     },
     "execution_count": 11,
     "metadata": {},
     "output_type": "execute_result"
    }
   ],
   "source": [
    "df.iloc[0,1]"
   ]
  },
  {
   "cell_type": "code",
   "execution_count": 14,
   "id": "a85fee34",
   "metadata": {
    "ExecuteTime": {
     "end_time": "2021-08-10T03:42:13.305948Z",
     "start_time": "2021-08-10T03:42:13.299946Z"
    }
   },
   "outputs": [
    {
     "data": {
      "text/plain": [
       "Interval(75.0, 85.0, closed='right')"
      ]
     },
     "execution_count": 14,
     "metadata": {},
     "output_type": "execute_result"
    }
   ],
   "source": [
    "df.iloc[1,1]"
   ]
  },
  {
   "cell_type": "code",
   "execution_count": 15,
   "id": "7434477e",
   "metadata": {
    "ExecuteTime": {
     "end_time": "2021-08-10T03:42:24.711964Z",
     "start_time": "2021-08-10T03:42:24.698938Z"
    }
   },
   "outputs": [
    {
     "data": {
      "text/plain": [
       "True"
      ]
     },
     "execution_count": 15,
     "metadata": {},
     "output_type": "execute_result"
    }
   ],
   "source": [
    "df.iloc[0,1] <df.iloc[1,1]"
   ]
  },
  {
   "cell_type": "code",
   "execution_count": 16,
   "id": "5248a1d6",
   "metadata": {
    "ExecuteTime": {
     "end_time": "2021-08-10T03:42:39.774091Z",
     "start_time": "2021-08-10T03:42:39.754438Z"
    }
   },
   "outputs": [
    {
     "data": {
      "text/plain": [
       "(75.0, 85.0]     4\n",
       "(55.0, 65.0]     3\n",
       "(65.0, 75.0]     2\n",
       "(85.0, 95.0]     2\n",
       "(44.95, 55.0]    1\n",
       "Name: cut, dtype: int64"
      ]
     },
     "execution_count": 16,
     "metadata": {},
     "output_type": "execute_result"
    }
   ],
   "source": [
    "df['cut'].value_counts()"
   ]
  },
  {
   "cell_type": "code",
   "execution_count": 19,
   "id": "fb007e6a",
   "metadata": {
    "ExecuteTime": {
     "end_time": "2021-08-10T03:43:59.689445Z",
     "start_time": "2021-08-10T03:43:59.671441Z"
    }
   },
   "outputs": [
    {
     "data": {
      "text/html": [
       "<div>\n",
       "<style scoped>\n",
       "    .dataframe tbody tr th:only-of-type {\n",
       "        vertical-align: middle;\n",
       "    }\n",
       "\n",
       "    .dataframe tbody tr th {\n",
       "        vertical-align: top;\n",
       "    }\n",
       "\n",
       "    .dataframe thead th {\n",
       "        text-align: right;\n",
       "    }\n",
       "</style>\n",
       "<table border=\"1\" class=\"dataframe\">\n",
       "  <thead>\n",
       "    <tr style=\"text-align: right;\">\n",
       "      <th></th>\n",
       "      <th>grades</th>\n",
       "      <th>cut</th>\n",
       "      <th>letter_cut</th>\n",
       "    </tr>\n",
       "  </thead>\n",
       "  <tbody>\n",
       "    <tr>\n",
       "      <th>0</th>\n",
       "      <td>45</td>\n",
       "      <td>(44.95, 55.0]</td>\n",
       "      <td>F</td>\n",
       "    </tr>\n",
       "    <tr>\n",
       "      <th>1</th>\n",
       "      <td>82</td>\n",
       "      <td>(75.0, 85.0]</td>\n",
       "      <td>B</td>\n",
       "    </tr>\n",
       "    <tr>\n",
       "      <th>2</th>\n",
       "      <td>56</td>\n",
       "      <td>(55.0, 65.0]</td>\n",
       "      <td>D</td>\n",
       "    </tr>\n",
       "    <tr>\n",
       "      <th>3</th>\n",
       "      <td>77</td>\n",
       "      <td>(75.0, 85.0]</td>\n",
       "      <td>B</td>\n",
       "    </tr>\n",
       "    <tr>\n",
       "      <th>4</th>\n",
       "      <td>90</td>\n",
       "      <td>(85.0, 95.0]</td>\n",
       "      <td>A</td>\n",
       "    </tr>\n",
       "    <tr>\n",
       "      <th>5</th>\n",
       "      <td>69</td>\n",
       "      <td>(65.0, 75.0]</td>\n",
       "      <td>C</td>\n",
       "    </tr>\n",
       "    <tr>\n",
       "      <th>6</th>\n",
       "      <td>72</td>\n",
       "      <td>(65.0, 75.0]</td>\n",
       "      <td>C</td>\n",
       "    </tr>\n",
       "    <tr>\n",
       "      <th>7</th>\n",
       "      <td>79</td>\n",
       "      <td>(75.0, 85.0]</td>\n",
       "      <td>B</td>\n",
       "    </tr>\n",
       "    <tr>\n",
       "      <th>8</th>\n",
       "      <td>85</td>\n",
       "      <td>(75.0, 85.0]</td>\n",
       "      <td>B</td>\n",
       "    </tr>\n",
       "    <tr>\n",
       "      <th>9</th>\n",
       "      <td>95</td>\n",
       "      <td>(85.0, 95.0]</td>\n",
       "      <td>A</td>\n",
       "    </tr>\n",
       "    <tr>\n",
       "      <th>10</th>\n",
       "      <td>62</td>\n",
       "      <td>(55.0, 65.0]</td>\n",
       "      <td>D</td>\n",
       "    </tr>\n",
       "    <tr>\n",
       "      <th>11</th>\n",
       "      <td>65</td>\n",
       "      <td>(55.0, 65.0]</td>\n",
       "      <td>D</td>\n",
       "    </tr>\n",
       "  </tbody>\n",
       "</table>\n",
       "</div>"
      ],
      "text/plain": [
       "    grades            cut letter_cut\n",
       "0       45  (44.95, 55.0]          F\n",
       "1       82   (75.0, 85.0]          B\n",
       "2       56   (55.0, 65.0]          D\n",
       "3       77   (75.0, 85.0]          B\n",
       "4       90   (85.0, 95.0]          A\n",
       "5       69   (65.0, 75.0]          C\n",
       "6       72   (65.0, 75.0]          C\n",
       "7       79   (75.0, 85.0]          B\n",
       "8       85   (75.0, 85.0]          B\n",
       "9       95   (85.0, 95.0]          A\n",
       "10      62   (55.0, 65.0]          D\n",
       "11      65   (55.0, 65.0]          D"
      ]
     },
     "execution_count": 19,
     "metadata": {},
     "output_type": "execute_result"
    }
   ],
   "source": [
    "df['letter_cut'] = pd.cut(grades,5,labels=['F','D','C','B','A'])\n",
    "df"
   ]
  },
  {
   "cell_type": "code",
   "execution_count": 20,
   "id": "f3fa6c55",
   "metadata": {
    "ExecuteTime": {
     "end_time": "2021-08-10T03:46:29.684127Z",
     "start_time": "2021-08-10T03:46:29.661616Z"
    }
   },
   "outputs": [
    {
     "data": {
      "text/plain": [
       "[(44.999, 62.6], (78.2, 84.4], (44.999, 62.6], (70.2, 78.2], (84.4, 95.0], ..., (78.2, 84.4], (84.4, 95.0], (84.4, 95.0], (44.999, 62.6], (62.6, 70.2]]\n",
       "Length: 12\n",
       "Categories (5, interval[float64, right]): [(44.999, 62.6] < (62.6, 70.2] < (70.2, 78.2] < (78.2, 84.4] < (84.4, 95.0]]"
      ]
     },
     "execution_count": 20,
     "metadata": {},
     "output_type": "execute_result"
    }
   ],
   "source": [
    "#qcut 盡可能平均分配區間的人數\n",
    "pd.qcut(grades,5)"
   ]
  },
  {
   "cell_type": "code",
   "execution_count": 22,
   "id": "954b92d6",
   "metadata": {
    "ExecuteTime": {
     "end_time": "2021-08-10T03:47:19.901067Z",
     "start_time": "2021-08-10T03:47:19.878529Z"
    }
   },
   "outputs": [
    {
     "data": {
      "text/html": [
       "<div>\n",
       "<style scoped>\n",
       "    .dataframe tbody tr th:only-of-type {\n",
       "        vertical-align: middle;\n",
       "    }\n",
       "\n",
       "    .dataframe tbody tr th {\n",
       "        vertical-align: top;\n",
       "    }\n",
       "\n",
       "    .dataframe thead th {\n",
       "        text-align: right;\n",
       "    }\n",
       "</style>\n",
       "<table border=\"1\" class=\"dataframe\">\n",
       "  <thead>\n",
       "    <tr style=\"text-align: right;\">\n",
       "      <th></th>\n",
       "      <th>grades</th>\n",
       "      <th>cut</th>\n",
       "      <th>letter_cut</th>\n",
       "      <th>qcut</th>\n",
       "    </tr>\n",
       "  </thead>\n",
       "  <tbody>\n",
       "    <tr>\n",
       "      <th>0</th>\n",
       "      <td>45</td>\n",
       "      <td>(44.95, 55.0]</td>\n",
       "      <td>F</td>\n",
       "      <td>(44.999, 62.6]</td>\n",
       "    </tr>\n",
       "    <tr>\n",
       "      <th>1</th>\n",
       "      <td>82</td>\n",
       "      <td>(75.0, 85.0]</td>\n",
       "      <td>B</td>\n",
       "      <td>(78.2, 84.4]</td>\n",
       "    </tr>\n",
       "    <tr>\n",
       "      <th>2</th>\n",
       "      <td>56</td>\n",
       "      <td>(55.0, 65.0]</td>\n",
       "      <td>D</td>\n",
       "      <td>(44.999, 62.6]</td>\n",
       "    </tr>\n",
       "    <tr>\n",
       "      <th>3</th>\n",
       "      <td>77</td>\n",
       "      <td>(75.0, 85.0]</td>\n",
       "      <td>B</td>\n",
       "      <td>(70.2, 78.2]</td>\n",
       "    </tr>\n",
       "    <tr>\n",
       "      <th>4</th>\n",
       "      <td>90</td>\n",
       "      <td>(85.0, 95.0]</td>\n",
       "      <td>A</td>\n",
       "      <td>(84.4, 95.0]</td>\n",
       "    </tr>\n",
       "    <tr>\n",
       "      <th>5</th>\n",
       "      <td>69</td>\n",
       "      <td>(65.0, 75.0]</td>\n",
       "      <td>C</td>\n",
       "      <td>(62.6, 70.2]</td>\n",
       "    </tr>\n",
       "    <tr>\n",
       "      <th>6</th>\n",
       "      <td>72</td>\n",
       "      <td>(65.0, 75.0]</td>\n",
       "      <td>C</td>\n",
       "      <td>(70.2, 78.2]</td>\n",
       "    </tr>\n",
       "    <tr>\n",
       "      <th>7</th>\n",
       "      <td>79</td>\n",
       "      <td>(75.0, 85.0]</td>\n",
       "      <td>B</td>\n",
       "      <td>(78.2, 84.4]</td>\n",
       "    </tr>\n",
       "    <tr>\n",
       "      <th>8</th>\n",
       "      <td>85</td>\n",
       "      <td>(75.0, 85.0]</td>\n",
       "      <td>B</td>\n",
       "      <td>(84.4, 95.0]</td>\n",
       "    </tr>\n",
       "    <tr>\n",
       "      <th>9</th>\n",
       "      <td>95</td>\n",
       "      <td>(85.0, 95.0]</td>\n",
       "      <td>A</td>\n",
       "      <td>(84.4, 95.0]</td>\n",
       "    </tr>\n",
       "    <tr>\n",
       "      <th>10</th>\n",
       "      <td>62</td>\n",
       "      <td>(55.0, 65.0]</td>\n",
       "      <td>D</td>\n",
       "      <td>(44.999, 62.6]</td>\n",
       "    </tr>\n",
       "    <tr>\n",
       "      <th>11</th>\n",
       "      <td>65</td>\n",
       "      <td>(55.0, 65.0]</td>\n",
       "      <td>D</td>\n",
       "      <td>(62.6, 70.2]</td>\n",
       "    </tr>\n",
       "  </tbody>\n",
       "</table>\n",
       "</div>"
      ],
      "text/plain": [
       "    grades            cut letter_cut            qcut\n",
       "0       45  (44.95, 55.0]          F  (44.999, 62.6]\n",
       "1       82   (75.0, 85.0]          B    (78.2, 84.4]\n",
       "2       56   (55.0, 65.0]          D  (44.999, 62.6]\n",
       "3       77   (75.0, 85.0]          B    (70.2, 78.2]\n",
       "4       90   (85.0, 95.0]          A    (84.4, 95.0]\n",
       "5       69   (65.0, 75.0]          C    (62.6, 70.2]\n",
       "6       72   (65.0, 75.0]          C    (70.2, 78.2]\n",
       "7       79   (75.0, 85.0]          B    (78.2, 84.4]\n",
       "8       85   (75.0, 85.0]          B    (84.4, 95.0]\n",
       "9       95   (85.0, 95.0]          A    (84.4, 95.0]\n",
       "10      62   (55.0, 65.0]          D  (44.999, 62.6]\n",
       "11      65   (55.0, 65.0]          D    (62.6, 70.2]"
      ]
     },
     "execution_count": 22,
     "metadata": {},
     "output_type": "execute_result"
    }
   ],
   "source": [
    "df['qcut']=pd.qcut(grades,5)\n",
    "df"
   ]
  },
  {
   "cell_type": "code",
   "execution_count": 23,
   "id": "d688b2ea",
   "metadata": {
    "ExecuteTime": {
     "end_time": "2021-08-10T03:48:26.670354Z",
     "start_time": "2021-08-10T03:48:26.649141Z"
    }
   },
   "outputs": [
    {
     "data": {
      "text/plain": [
       "(44.999, 62.6]    3\n",
       "(84.4, 95.0]      3\n",
       "(62.6, 70.2]      2\n",
       "(70.2, 78.2]      2\n",
       "(78.2, 84.4]      2\n",
       "Name: qcut, dtype: int64"
      ]
     },
     "execution_count": 23,
     "metadata": {},
     "output_type": "execute_result"
    }
   ],
   "source": [
    "df['qcut'].value_counts()"
   ]
  },
  {
   "cell_type": "code",
   "execution_count": 24,
   "id": "541930cb",
   "metadata": {
    "ExecuteTime": {
     "end_time": "2021-08-10T03:48:38.635606Z",
     "start_time": "2021-08-10T03:48:38.618587Z"
    }
   },
   "outputs": [
    {
     "data": {
      "text/plain": [
       "(75.0, 85.0]     4\n",
       "(55.0, 65.0]     3\n",
       "(65.0, 75.0]     2\n",
       "(85.0, 95.0]     2\n",
       "(44.95, 55.0]    1\n",
       "Name: cut, dtype: int64"
      ]
     },
     "execution_count": 24,
     "metadata": {},
     "output_type": "execute_result"
    }
   ],
   "source": [
    "df['cut'].value_counts()"
   ]
  },
  {
   "cell_type": "code",
   "execution_count": 25,
   "id": "e4d3a28e",
   "metadata": {
    "ExecuteTime": {
     "end_time": "2021-08-10T03:49:35.225232Z",
     "start_time": "2021-08-10T03:49:35.199232Z"
    }
   },
   "outputs": [
    {
     "data": {
      "text/html": [
       "<div>\n",
       "<style scoped>\n",
       "    .dataframe tbody tr th:only-of-type {\n",
       "        vertical-align: middle;\n",
       "    }\n",
       "\n",
       "    .dataframe tbody tr th {\n",
       "        vertical-align: top;\n",
       "    }\n",
       "\n",
       "    .dataframe thead th {\n",
       "        text-align: right;\n",
       "    }\n",
       "</style>\n",
       "<table border=\"1\" class=\"dataframe\">\n",
       "  <thead>\n",
       "    <tr style=\"text-align: right;\">\n",
       "      <th></th>\n",
       "      <th>grades</th>\n",
       "      <th>cut</th>\n",
       "      <th>letter_cut</th>\n",
       "      <th>qcut</th>\n",
       "      <th>letter_qcut</th>\n",
       "    </tr>\n",
       "  </thead>\n",
       "  <tbody>\n",
       "    <tr>\n",
       "      <th>0</th>\n",
       "      <td>45</td>\n",
       "      <td>(44.95, 55.0]</td>\n",
       "      <td>F</td>\n",
       "      <td>(44.999, 62.6]</td>\n",
       "      <td>F</td>\n",
       "    </tr>\n",
       "    <tr>\n",
       "      <th>1</th>\n",
       "      <td>82</td>\n",
       "      <td>(75.0, 85.0]</td>\n",
       "      <td>B</td>\n",
       "      <td>(78.2, 84.4]</td>\n",
       "      <td>B</td>\n",
       "    </tr>\n",
       "    <tr>\n",
       "      <th>2</th>\n",
       "      <td>56</td>\n",
       "      <td>(55.0, 65.0]</td>\n",
       "      <td>D</td>\n",
       "      <td>(44.999, 62.6]</td>\n",
       "      <td>F</td>\n",
       "    </tr>\n",
       "    <tr>\n",
       "      <th>3</th>\n",
       "      <td>77</td>\n",
       "      <td>(75.0, 85.0]</td>\n",
       "      <td>B</td>\n",
       "      <td>(70.2, 78.2]</td>\n",
       "      <td>C</td>\n",
       "    </tr>\n",
       "    <tr>\n",
       "      <th>4</th>\n",
       "      <td>90</td>\n",
       "      <td>(85.0, 95.0]</td>\n",
       "      <td>A</td>\n",
       "      <td>(84.4, 95.0]</td>\n",
       "      <td>A</td>\n",
       "    </tr>\n",
       "    <tr>\n",
       "      <th>5</th>\n",
       "      <td>69</td>\n",
       "      <td>(65.0, 75.0]</td>\n",
       "      <td>C</td>\n",
       "      <td>(62.6, 70.2]</td>\n",
       "      <td>D</td>\n",
       "    </tr>\n",
       "    <tr>\n",
       "      <th>6</th>\n",
       "      <td>72</td>\n",
       "      <td>(65.0, 75.0]</td>\n",
       "      <td>C</td>\n",
       "      <td>(70.2, 78.2]</td>\n",
       "      <td>C</td>\n",
       "    </tr>\n",
       "    <tr>\n",
       "      <th>7</th>\n",
       "      <td>79</td>\n",
       "      <td>(75.0, 85.0]</td>\n",
       "      <td>B</td>\n",
       "      <td>(78.2, 84.4]</td>\n",
       "      <td>B</td>\n",
       "    </tr>\n",
       "    <tr>\n",
       "      <th>8</th>\n",
       "      <td>85</td>\n",
       "      <td>(75.0, 85.0]</td>\n",
       "      <td>B</td>\n",
       "      <td>(84.4, 95.0]</td>\n",
       "      <td>A</td>\n",
       "    </tr>\n",
       "    <tr>\n",
       "      <th>9</th>\n",
       "      <td>95</td>\n",
       "      <td>(85.0, 95.0]</td>\n",
       "      <td>A</td>\n",
       "      <td>(84.4, 95.0]</td>\n",
       "      <td>A</td>\n",
       "    </tr>\n",
       "    <tr>\n",
       "      <th>10</th>\n",
       "      <td>62</td>\n",
       "      <td>(55.0, 65.0]</td>\n",
       "      <td>D</td>\n",
       "      <td>(44.999, 62.6]</td>\n",
       "      <td>F</td>\n",
       "    </tr>\n",
       "    <tr>\n",
       "      <th>11</th>\n",
       "      <td>65</td>\n",
       "      <td>(55.0, 65.0]</td>\n",
       "      <td>D</td>\n",
       "      <td>(62.6, 70.2]</td>\n",
       "      <td>D</td>\n",
       "    </tr>\n",
       "  </tbody>\n",
       "</table>\n",
       "</div>"
      ],
      "text/plain": [
       "    grades            cut letter_cut            qcut letter_qcut\n",
       "0       45  (44.95, 55.0]          F  (44.999, 62.6]           F\n",
       "1       82   (75.0, 85.0]          B    (78.2, 84.4]           B\n",
       "2       56   (55.0, 65.0]          D  (44.999, 62.6]           F\n",
       "3       77   (75.0, 85.0]          B    (70.2, 78.2]           C\n",
       "4       90   (85.0, 95.0]          A    (84.4, 95.0]           A\n",
       "5       69   (65.0, 75.0]          C    (62.6, 70.2]           D\n",
       "6       72   (65.0, 75.0]          C    (70.2, 78.2]           C\n",
       "7       79   (75.0, 85.0]          B    (78.2, 84.4]           B\n",
       "8       85   (75.0, 85.0]          B    (84.4, 95.0]           A\n",
       "9       95   (85.0, 95.0]          A    (84.4, 95.0]           A\n",
       "10      62   (55.0, 65.0]          D  (44.999, 62.6]           F\n",
       "11      65   (55.0, 65.0]          D    (62.6, 70.2]           D"
      ]
     },
     "execution_count": 25,
     "metadata": {},
     "output_type": "execute_result"
    }
   ],
   "source": [
    "df['letter_qcut'] = pd.qcut(grades,5,labels=['F','D','C','B','A'])\n",
    "df"
   ]
  },
  {
   "cell_type": "code",
   "execution_count": null,
   "id": "ded036fd",
   "metadata": {},
   "outputs": [],
   "source": []
  }
 ],
 "metadata": {
  "kernelspec": {
   "display_name": "Python 3",
   "language": "python",
   "name": "python3"
  },
  "language_info": {
   "codemirror_mode": {
    "name": "ipython",
    "version": 3
   },
   "file_extension": ".py",
   "mimetype": "text/x-python",
   "name": "python",
   "nbconvert_exporter": "python",
   "pygments_lexer": "ipython3",
   "version": "3.8.8"
  }
 },
 "nbformat": 4,
 "nbformat_minor": 5
}
