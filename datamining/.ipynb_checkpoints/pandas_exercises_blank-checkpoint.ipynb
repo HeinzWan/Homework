{
 "cells": [
  {
   "cell_type": "markdown",
   "id": "d9d7ecc8",
   "metadata": {},
   "source": [
    "# Exercises"
   ]
  },
  {
   "cell_type": "code",
   "execution_count": 1,
   "id": "dc9d2618",
   "metadata": {},
   "outputs": [],
   "source": [
    "import pandas as pd"
   ]
  },
  {
   "cell_type": "raw",
   "id": "afbaff7f",
   "metadata": {},
   "source": [
    "#0 把 train.csv 讀進來"
   ]
  },
  {
   "cell_type": "code",
   "execution_count": null,
   "id": "fd5e82f6",
   "metadata": {},
   "outputs": [],
   "source": []
  },
  {
   "cell_type": "code",
   "execution_count": null,
   "id": "a00edb98",
   "metadata": {},
   "outputs": [],
   "source": []
  },
  {
   "cell_type": "raw",
   "id": "694249d0",
   "metadata": {},
   "source": [
    "#1 找出前3個row, 前5個column"
   ]
  },
  {
   "cell_type": "code",
   "execution_count": null,
   "id": "1f6b3d9a",
   "metadata": {},
   "outputs": [],
   "source": []
  },
  {
   "cell_type": "raw",
   "id": "db79cde1",
   "metadata": {},
   "source": [
    "#2 找出row index = [0, 7, 9], column index = [0, 2, 3]"
   ]
  },
  {
   "cell_type": "code",
   "execution_count": null,
   "id": "03de3378",
   "metadata": {},
   "outputs": [],
   "source": []
  },
  {
   "cell_type": "raw",
   "id": "be39427d",
   "metadata": {},
   "source": [
    "#3 找出column名稱= ['Survived', 'Name', 'Sex']"
   ]
  },
  {
   "cell_type": "code",
   "execution_count": null,
   "id": "75203e85",
   "metadata": {},
   "outputs": [],
   "source": []
  },
  {
   "cell_type": "raw",
   "id": "952fe6d7",
   "metadata": {},
   "source": [
    "#4 找出column名稱= ['Survived', 'Pclass'], row index = [3, 6, 9]"
   ]
  },
  {
   "cell_type": "code",
   "execution_count": null,
   "id": "bb04f8ce",
   "metadata": {},
   "outputs": [],
   "source": []
  },
  {
   "cell_type": "raw",
   "id": "1d6fccd7",
   "metadata": {},
   "source": [
    "#5 找出Embarked是C"
   ]
  },
  {
   "cell_type": "code",
   "execution_count": null,
   "id": "a41ea164",
   "metadata": {},
   "outputs": [],
   "source": []
  },
  {
   "cell_type": "raw",
   "id": "dc832880",
   "metadata": {},
   "source": [
    "#6 找出Embarked不是C"
   ]
  },
  {
   "cell_type": "code",
   "execution_count": null,
   "id": "b452302d",
   "metadata": {},
   "outputs": [],
   "source": []
  },
  {
   "cell_type": "raw",
   "id": "c8a1acf2",
   "metadata": {},
   "source": [
    "#7 找出Age在25跟35中間（不包含25跟35）\n",
    "   只呈現'Survived', 'Age', 'Sex'"
   ]
  },
  {
   "cell_type": "code",
   "execution_count": null,
   "id": "562d8c65",
   "metadata": {},
   "outputs": [],
   "source": []
  },
  {
   "cell_type": "raw",
   "id": "70a9d6cf",
   "metadata": {},
   "source": [
    "#8 找出Age在25跟35中間（不包含25跟35） 或是Sex等於female"
   ]
  },
  {
   "cell_type": "code",
   "execution_count": null,
   "id": "51f6794e",
   "metadata": {},
   "outputs": [],
   "source": []
  },
  {
   "cell_type": "raw",
   "id": "ec1c7b7d",
   "metadata": {},
   "source": [
    "#9 用loc找出所有男生並只顯示Sex欄位"
   ]
  },
  {
   "cell_type": "code",
   "execution_count": null,
   "id": "8dc4f8e7",
   "metadata": {},
   "outputs": [],
   "source": []
  },
  {
   "cell_type": "raw",
   "id": "525c9126",
   "metadata": {},
   "source": [
    "#10 把 Sex 欄位的 male 改成 1\n",
    "               female 改成 0\n",
    "  （把第9題的結果變成m）"
   ]
  },
  {
   "cell_type": "code",
   "execution_count": null,
   "id": "192a0fad",
   "metadata": {},
   "outputs": [],
   "source": []
  },
  {
   "cell_type": "code",
   "execution_count": null,
   "id": "82eda6f7",
   "metadata": {},
   "outputs": [],
   "source": []
  },
  {
   "cell_type": "raw",
   "id": "bde52ad7",
   "metadata": {},
   "source": [
    "# 11 取出 Name 的稱呼 並把結果存在新的 Title 欄位\n",
    "     ex. Braund, Mr. Owen Harris 稱呼: Mr\n",
    "         Graham, Miss. Margaret Edith 稱呼: Miss"
   ]
  },
  {
   "cell_type": "code",
   "execution_count": null,
   "id": "715e5fb5",
   "metadata": {},
   "outputs": [],
   "source": []
  },
  {
   "cell_type": "code",
   "execution_count": null,
   "id": "9dc18ca7",
   "metadata": {},
   "outputs": [],
   "source": []
  },
  {
   "cell_type": "raw",
   "id": "f6fd2055",
   "metadata": {},
   "source": [
    "# 12 新增一個新的 Family 欄位\n",
    "     Family 欄位等於 Sibsp + Parch + 1 （自己）"
   ]
  },
  {
   "cell_type": "code",
   "execution_count": null,
   "id": "fe8178bd",
   "metadata": {},
   "outputs": [],
   "source": []
  },
  {
   "cell_type": "code",
   "execution_count": null,
   "id": "45044f23",
   "metadata": {},
   "outputs": [],
   "source": []
  },
  {
   "cell_type": "raw",
   "id": "298678af",
   "metadata": {},
   "source": [
    "# 13 以圖示呈現 Survived 在一下的欄位中有何不同\n",
    "     Pclass, SibSp, Parch, Embarked, Family"
   ]
  },
  {
   "cell_type": "code",
   "execution_count": null,
   "id": "e4c71c89",
   "metadata": {},
   "outputs": [],
   "source": []
  },
  {
   "cell_type": "code",
   "execution_count": null,
   "id": "0d4b3fbc",
   "metadata": {},
   "outputs": [],
   "source": []
  },
  {
   "cell_type": "code",
   "execution_count": null,
   "id": "8032eb13",
   "metadata": {},
   "outputs": [],
   "source": []
  },
  {
   "cell_type": "code",
   "execution_count": null,
   "id": "d1976163",
   "metadata": {},
   "outputs": [],
   "source": []
  },
  {
   "cell_type": "code",
   "execution_count": null,
   "id": "f86d4dac",
   "metadata": {},
   "outputs": [],
   "source": []
  },
  {
   "cell_type": "raw",
   "id": "fac067f5",
   "metadata": {},
   "source": [
    "# 14 one-hot encoding:\n",
    "     以 function 的方式完成以下題目\n",
    "     把 Embarked 欄位以 one-hot encoding 的方式呈現並合併到原本的 DataFrame"
   ]
  },
  {
   "cell_type": "code",
   "execution_count": 5,
   "id": "fc6905f2",
   "metadata": {},
   "outputs": [],
   "source": []
  },
  {
   "cell_type": "code",
   "execution_count": null,
   "id": "e9bc89e3",
   "metadata": {},
   "outputs": [],
   "source": []
  },
  {
   "cell_type": "raw",
   "id": "74f8f993",
   "metadata": {},
   "source": [
    "# 15 one-hot encoding: embarked\n",
    "     以 function 的方式完成以下題目\n",
    "     把 Embarked 欄位以 one-hot encoding 的方式呈現並合併到原本的 DataFrame"
   ]
  },
  {
   "cell_type": "code",
   "execution_count": null,
   "id": "3985fffa",
   "metadata": {},
   "outputs": [],
   "source": []
  },
  {
   "cell_type": "code",
   "execution_count": null,
   "id": "883487a5",
   "metadata": {},
   "outputs": [],
   "source": []
  },
  {
   "cell_type": "raw",
   "id": "c7bf7ceb",
   "metadata": {},
   "source": [
    "# 16 Age 的 NA 以平均值填入（round到整數）"
   ]
  },
  {
   "cell_type": "code",
   "execution_count": null,
   "id": "968af0b7",
   "metadata": {},
   "outputs": [],
   "source": []
  },
  {
   "cell_type": "code",
   "execution_count": null,
   "id": "7f0b72ca",
   "metadata": {},
   "outputs": [],
   "source": []
  }
 ],
 "metadata": {
  "kernelspec": {
   "display_name": "Python 3",
   "language": "python",
   "name": "python3"
  },
  "language_info": {
   "codemirror_mode": {
    "name": "ipython",
    "version": 3
   },
   "file_extension": ".py",
   "mimetype": "text/x-python",
   "name": "python",
   "nbconvert_exporter": "python",
   "pygments_lexer": "ipython3",
   "version": "3.8.8"
  }
 },
 "nbformat": 4,
 "nbformat_minor": 5
}
