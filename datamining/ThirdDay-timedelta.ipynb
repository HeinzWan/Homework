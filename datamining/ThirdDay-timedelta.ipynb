{
 "cells": [
  {
   "cell_type": "code",
   "execution_count": 1,
   "id": "41c9e481",
   "metadata": {
    "ExecuteTime": {
     "end_time": "2021-08-13T03:30:59.776308Z",
     "start_time": "2021-08-13T03:30:59.764307Z"
    }
   },
   "outputs": [],
   "source": [
    "from datetime import datetime,timedelta"
   ]
  },
  {
   "cell_type": "code",
   "execution_count": 2,
   "id": "4851d7d6",
   "metadata": {
    "ExecuteTime": {
     "end_time": "2021-08-13T03:31:12.098839Z",
     "start_time": "2021-08-13T03:31:12.085839Z"
    }
   },
   "outputs": [
    {
     "data": {
      "text/plain": [
       "datetime.datetime(2021, 8, 13, 11, 31, 12, 87841)"
      ]
     },
     "execution_count": 2,
     "metadata": {},
     "output_type": "execute_result"
    }
   ],
   "source": [
    "#datetime\n",
    "datetime.now()"
   ]
  },
  {
   "cell_type": "code",
   "execution_count": 3,
   "id": "7e79e972",
   "metadata": {
    "ExecuteTime": {
     "end_time": "2021-08-13T03:31:19.112865Z",
     "start_time": "2021-08-13T03:31:19.104865Z"
    }
   },
   "outputs": [
    {
     "data": {
      "text/plain": [
       "datetime.datetime(2021, 8, 13, 11, 31, 19, 105866)"
      ]
     },
     "execution_count": 3,
     "metadata": {},
     "output_type": "execute_result"
    }
   ],
   "source": [
    "datetime.today()"
   ]
  },
  {
   "cell_type": "code",
   "execution_count": 5,
   "id": "bd0cf5a9",
   "metadata": {
    "ExecuteTime": {
     "end_time": "2021-08-13T03:31:44.352500Z",
     "start_time": "2021-08-13T03:31:44.335482Z"
    }
   },
   "outputs": [
    {
     "data": {
      "text/plain": [
       "8"
      ]
     },
     "execution_count": 5,
     "metadata": {},
     "output_type": "execute_result"
    }
   ],
   "source": [
    "datetime.now().year"
   ]
  },
  {
   "cell_type": "code",
   "execution_count": 6,
   "id": "983ba6d7",
   "metadata": {
    "ExecuteTime": {
     "end_time": "2021-08-13T03:31:52.255761Z",
     "start_time": "2021-08-13T03:31:52.236763Z"
    }
   },
   "outputs": [
    {
     "data": {
      "text/plain": [
       "8"
      ]
     },
     "execution_count": 6,
     "metadata": {},
     "output_type": "execute_result"
    }
   ],
   "source": [
    "datetime.now().month"
   ]
  },
  {
   "cell_type": "code",
   "execution_count": 7,
   "id": "d5b22270",
   "metadata": {
    "ExecuteTime": {
     "end_time": "2021-08-13T03:31:55.275324Z",
     "start_time": "2021-08-13T03:31:55.256817Z"
    }
   },
   "outputs": [
    {
     "data": {
      "text/plain": [
       "13"
      ]
     },
     "execution_count": 7,
     "metadata": {},
     "output_type": "execute_result"
    }
   ],
   "source": [
    "datetime.now().day"
   ]
  },
  {
   "cell_type": "code",
   "execution_count": 9,
   "id": "986e9d10",
   "metadata": {
    "ExecuteTime": {
     "end_time": "2021-08-13T03:32:22.907202Z",
     "start_time": "2021-08-13T03:32:22.889178Z"
    }
   },
   "outputs": [
    {
     "name": "stdout",
     "output_type": "stream",
     "text": [
      "11\n",
      "32\n"
     ]
    }
   ],
   "source": [
    "print(datetime.now().hour)\n",
    "print(datetime.now().minute)"
   ]
  },
  {
   "cell_type": "code",
   "execution_count": 10,
   "id": "1714c03f",
   "metadata": {
    "ExecuteTime": {
     "end_time": "2021-08-13T03:33:46.850649Z",
     "start_time": "2021-08-13T03:33:46.836650Z"
    }
   },
   "outputs": [
    {
     "data": {
      "text/plain": [
       "datetime.timedelta(days=7858)"
      ]
     },
     "execution_count": 10,
     "metadata": {},
     "output_type": "execute_result"
    }
   ],
   "source": [
    "diff= datetime(2021,7,7) - datetime(2000,1,1)\n",
    "diff"
   ]
  },
  {
   "cell_type": "code",
   "execution_count": 11,
   "id": "39d0153d",
   "metadata": {
    "ExecuteTime": {
     "end_time": "2021-08-13T03:33:55.680041Z",
     "start_time": "2021-08-13T03:33:55.666029Z"
    }
   },
   "outputs": [
    {
     "data": {
      "text/plain": [
       "7858"
      ]
     },
     "execution_count": 11,
     "metadata": {},
     "output_type": "execute_result"
    }
   ],
   "source": [
    "diff.days"
   ]
  },
  {
   "cell_type": "code",
   "execution_count": 20,
   "id": "f2456a43",
   "metadata": {
    "ExecuteTime": {
     "end_time": "2021-08-13T03:36:52.561658Z",
     "start_time": "2021-08-13T03:36:52.542082Z"
    }
   },
   "outputs": [
    {
     "ename": "AttributeError",
     "evalue": "'datetime.timedelta' object has no attribute 'weeks'",
     "output_type": "error",
     "traceback": [
      "\u001b[1;31m---------------------------------------------------------------------------\u001b[0m",
      "\u001b[1;31mAttributeError\u001b[0m                            Traceback (most recent call last)",
      "\u001b[1;32m<ipython-input-20-c3c35ae12cc2>\u001b[0m in \u001b[0;36m<module>\u001b[1;34m\u001b[0m\n\u001b[1;32m----> 1\u001b[1;33m \u001b[0mdiff\u001b[0m\u001b[1;33m.\u001b[0m\u001b[0mweeks\u001b[0m\u001b[1;33m\u001b[0m\u001b[1;33m\u001b[0m\u001b[0m\n\u001b[0m",
      "\u001b[1;31mAttributeError\u001b[0m: 'datetime.timedelta' object has no attribute 'weeks'"
     ]
    }
   ],
   "source": [
    "diff.weeks"
   ]
  },
  {
   "cell_type": "code",
   "execution_count": 18,
   "id": "192df1cc",
   "metadata": {
    "ExecuteTime": {
     "end_time": "2021-08-13T03:36:26.594225Z",
     "start_time": "2021-08-13T03:36:26.573278Z"
    }
   },
   "outputs": [
    {
     "data": {
      "text/plain": [
       "datetime.datetime(2021, 8, 27, 11, 36, 26, 575277)"
      ]
     },
     "execution_count": 18,
     "metadata": {},
     "output_type": "execute_result"
    }
   ],
   "source": [
    "now = datetime.now()\n",
    "now + timedelta(weeks=2)"
   ]
  },
  {
   "cell_type": "code",
   "execution_count": 19,
   "id": "85f2c43b",
   "metadata": {
    "ExecuteTime": {
     "end_time": "2021-08-13T03:36:44.033746Z",
     "start_time": "2021-08-13T03:36:44.015223Z"
    }
   },
   "outputs": [
    {
     "data": {
      "text/plain": [
       "datetime.datetime(2021, 8, 18, 11, 36, 26, 575277)"
      ]
     },
     "execution_count": 19,
     "metadata": {},
     "output_type": "execute_result"
    }
   ],
   "source": [
    "now + timedelta(days=5)"
   ]
  },
  {
   "cell_type": "code",
   "execution_count": 21,
   "id": "0ef8f39b",
   "metadata": {
    "ExecuteTime": {
     "end_time": "2021-08-13T03:37:12.598427Z",
     "start_time": "2021-08-13T03:37:12.590428Z"
    }
   },
   "outputs": [
    {
     "data": {
      "text/plain": [
       "datetime.datetime(2021, 8, 13, 19, 36, 26, 575277)"
      ]
     },
     "execution_count": 21,
     "metadata": {},
     "output_type": "execute_result"
    }
   ],
   "source": [
    "now + timedelta(hours=8)"
   ]
  },
  {
   "cell_type": "code",
   "execution_count": 22,
   "id": "323e5a7b",
   "metadata": {
    "ExecuteTime": {
     "end_time": "2021-08-13T03:37:20.106771Z",
     "start_time": "2021-08-13T03:37:20.095771Z"
    }
   },
   "outputs": [
    {
     "data": {
      "text/plain": [
       "datetime.datetime(2021, 8, 13, 3, 36, 26, 575277)"
      ]
     },
     "execution_count": 22,
     "metadata": {},
     "output_type": "execute_result"
    }
   ],
   "source": [
    "now + timedelta(hours=-8)"
   ]
  },
  {
   "cell_type": "code",
   "execution_count": 23,
   "id": "0450674e",
   "metadata": {
    "ExecuteTime": {
     "end_time": "2021-08-13T03:37:39.086886Z",
     "start_time": "2021-08-13T03:37:39.078366Z"
    }
   },
   "outputs": [
    {
     "data": {
      "text/plain": [
       "datetime.datetime(2021, 8, 13, 12, 6, 26, 575277)"
      ]
     },
     "execution_count": 23,
     "metadata": {},
     "output_type": "execute_result"
    }
   ],
   "source": [
    "now + timedelta(minutes=30)"
   ]
  },
  {
   "cell_type": "code",
   "execution_count": 26,
   "id": "d76b4fa9",
   "metadata": {
    "ExecuteTime": {
     "end_time": "2021-08-13T03:38:33.812540Z",
     "start_time": "2021-08-13T03:38:33.797540Z"
    }
   },
   "outputs": [
    {
     "ename": "TypeError",
     "evalue": "'years' is an invalid keyword argument for __new__()",
     "output_type": "error",
     "traceback": [
      "\u001b[1;31m---------------------------------------------------------------------------\u001b[0m",
      "\u001b[1;31mTypeError\u001b[0m                                 Traceback (most recent call last)",
      "\u001b[1;32m<ipython-input-26-aa60d8b7756e>\u001b[0m in \u001b[0;36m<module>\u001b[1;34m\u001b[0m\n\u001b[1;32m----> 1\u001b[1;33m \u001b[0mnow\u001b[0m \u001b[1;33m+\u001b[0m \u001b[0mtimedelta\u001b[0m\u001b[1;33m(\u001b[0m\u001b[0myears\u001b[0m\u001b[1;33m=\u001b[0m\u001b[1;36m1\u001b[0m\u001b[1;33m)\u001b[0m\u001b[1;33m\u001b[0m\u001b[1;33m\u001b[0m\u001b[0m\n\u001b[0m",
      "\u001b[1;31mTypeError\u001b[0m: 'years' is an invalid keyword argument for __new__()"
     ]
    }
   ],
   "source": [
    "now + timedelta(years=1)"
   ]
  },
  {
   "cell_type": "code",
   "execution_count": 29,
   "id": "97979867",
   "metadata": {
    "ExecuteTime": {
     "end_time": "2021-08-13T03:40:22.735503Z",
     "start_time": "2021-08-13T03:40:22.715783Z"
    }
   },
   "outputs": [
    {
     "data": {
      "text/plain": [
       "datetime.datetime(2020, 2, 2, 0, 0)"
      ]
     },
     "execution_count": 29,
     "metadata": {},
     "output_type": "execute_result"
    }
   ],
   "source": [
    "time='2020-02-02'\n",
    "datetime.strptime(time,'%Y-%m-%d')"
   ]
  },
  {
   "cell_type": "code",
   "execution_count": 31,
   "id": "ddb0d622",
   "metadata": {
    "ExecuteTime": {
     "end_time": "2021-08-13T03:41:55.711503Z",
     "start_time": "2021-08-13T03:41:55.692988Z"
    }
   },
   "outputs": [
    {
     "data": {
      "text/plain": [
       "datetime.datetime(2020, 2, 2, 18, 53, 22)"
      ]
     },
     "execution_count": 31,
     "metadata": {},
     "output_type": "execute_result"
    }
   ],
   "source": [
    "time_2='2020-02-02 18:53:22'\n",
    "datetime.strptime(time_2,'%Y-%m-%d %H:%M:%S')"
   ]
  },
  {
   "cell_type": "code",
   "execution_count": 33,
   "id": "fe951e71",
   "metadata": {
    "ExecuteTime": {
     "end_time": "2021-08-13T03:43:54.126476Z",
     "start_time": "2021-08-13T03:43:53.547972Z"
    }
   },
   "outputs": [],
   "source": [
    "#date_range\n",
    "import pandas as pd"
   ]
  },
  {
   "cell_type": "code",
   "execution_count": 34,
   "id": "253b4b20",
   "metadata": {
    "ExecuteTime": {
     "end_time": "2021-08-13T03:44:30.179296Z",
     "start_time": "2021-08-13T03:44:30.159787Z"
    }
   },
   "outputs": [
    {
     "data": {
      "text/plain": [
       "DatetimeIndex(['2021-01-01', '2021-01-02', '2021-01-03', '2021-01-04',\n",
       "               '2021-01-05'],\n",
       "              dtype='datetime64[ns]', freq='D')"
      ]
     },
     "execution_count": 34,
     "metadata": {},
     "output_type": "execute_result"
    }
   ],
   "source": [
    "pd.date_range('2021-01-01',periods=5,freq='D')"
   ]
  },
  {
   "cell_type": "code",
   "execution_count": 35,
   "id": "a23ed4e0",
   "metadata": {
    "ExecuteTime": {
     "end_time": "2021-08-13T03:45:42.280776Z",
     "start_time": "2021-08-13T03:45:42.255762Z"
    }
   },
   "outputs": [
    {
     "data": {
      "text/plain": [
       "DatetimeIndex(['2021-01-01 00:00:00', '2021-01-01 01:00:00',\n",
       "               '2021-01-01 02:00:00', '2021-01-01 03:00:00',\n",
       "               '2021-01-01 04:00:00'],\n",
       "              dtype='datetime64[ns]', freq='H')"
      ]
     },
     "execution_count": 35,
     "metadata": {},
     "output_type": "execute_result"
    }
   ],
   "source": [
    "pd.date_range('2021-01-01',periods=5,freq='H')"
   ]
  },
  {
   "cell_type": "code",
   "execution_count": 37,
   "id": "08c988b9",
   "metadata": {
    "ExecuteTime": {
     "end_time": "2021-08-13T03:46:18.634054Z",
     "start_time": "2021-08-13T03:46:18.623503Z"
    }
   },
   "outputs": [
    {
     "data": {
      "text/plain": [
       "DatetimeIndex(['2020-01-31', '2020-02-29', '2020-03-31', '2020-04-30',\n",
       "               '2020-05-31'],\n",
       "              dtype='datetime64[ns]', freq='M')"
      ]
     },
     "execution_count": 37,
     "metadata": {},
     "output_type": "execute_result"
    }
   ],
   "source": [
    "pd.date_range('2020-01-01',periods=5,freq='M')"
   ]
  },
  {
   "cell_type": "code",
   "execution_count": 38,
   "id": "be1436c6",
   "metadata": {
    "ExecuteTime": {
     "end_time": "2021-08-13T03:47:15.392265Z",
     "start_time": "2021-08-13T03:47:15.374755Z"
    }
   },
   "outputs": [
    {
     "data": {
      "text/plain": [
       "DatetimeIndex(['2020-01-01 00:00:00', '2020-01-01 00:20:00',\n",
       "               '2020-01-01 00:40:00', '2020-01-01 01:00:00',\n",
       "               '2020-01-01 01:20:00'],\n",
       "              dtype='datetime64[ns]', freq='20T')"
      ]
     },
     "execution_count": 38,
     "metadata": {},
     "output_type": "execute_result"
    }
   ],
   "source": [
    "pd.date_range('2020-01-01',periods=5,freq='20min')"
   ]
  },
  {
   "cell_type": "code",
   "execution_count": 39,
   "id": "83f19b89",
   "metadata": {
    "ExecuteTime": {
     "end_time": "2021-08-13T03:47:40.586563Z",
     "start_time": "2021-08-13T03:47:40.569540Z"
    }
   },
   "outputs": [
    {
     "data": {
      "text/plain": [
       "DatetimeIndex(['2020-01-01', '2020-01-02', '2020-01-03', '2020-01-06',\n",
       "               '2020-01-07'],\n",
       "              dtype='datetime64[ns]', freq='B')"
      ]
     },
     "execution_count": 39,
     "metadata": {},
     "output_type": "execute_result"
    }
   ],
   "source": [
    "pd.date_range('2020-01-01',periods=5,freq='B') #周一~周五"
   ]
  },
  {
   "cell_type": "code",
   "execution_count": 40,
   "id": "b2d613f5",
   "metadata": {
    "ExecuteTime": {
     "end_time": "2021-08-13T03:49:24.912793Z",
     "start_time": "2021-08-13T03:49:24.899783Z"
    }
   },
   "outputs": [
    {
     "data": {
      "text/plain": [
       "DatetimeIndex(['2021-01-01', '2021-01-02', '2021-01-03', '2021-01-04',\n",
       "               '2021-01-05', '2021-01-06', '2021-01-07', '2021-01-08',\n",
       "               '2021-01-09', '2021-01-10', '2021-01-11', '2021-01-12',\n",
       "               '2021-01-13', '2021-01-14', '2021-01-15', '2021-01-16',\n",
       "               '2021-01-17', '2021-01-18', '2021-01-19', '2021-01-20',\n",
       "               '2021-01-21', '2021-01-22', '2021-01-23', '2021-01-24',\n",
       "               '2021-01-25', '2021-01-26', '2021-01-27', '2021-01-28',\n",
       "               '2021-01-29', '2021-01-30', '2021-01-31'],\n",
       "              dtype='datetime64[ns]', freq='D')"
      ]
     },
     "execution_count": 40,
     "metadata": {},
     "output_type": "execute_result"
    }
   ],
   "source": [
    "pd.date_range(start='2021-01-01',end='2021-01-31')"
   ]
  },
  {
   "cell_type": "code",
   "execution_count": 41,
   "id": "97f4cb01",
   "metadata": {
    "ExecuteTime": {
     "end_time": "2021-08-13T03:49:48.388313Z",
     "start_time": "2021-08-13T03:49:47.448160Z"
    }
   },
   "outputs": [
    {
     "data": {
      "text/plain": [
       "DatetimeIndex(['2020-01-01 00:00:00+08:00', '2020-01-02 00:00:00+08:00',\n",
       "               '2020-01-03 00:00:00+08:00', '2020-01-04 00:00:00+08:00',\n",
       "               '2020-01-05 00:00:00+08:00'],\n",
       "              dtype='datetime64[ns, Asia/Taipei]', freq='D')"
      ]
     },
     "execution_count": 41,
     "metadata": {},
     "output_type": "execute_result"
    }
   ],
   "source": [
    "pd.date_range('2020-01-01',periods=5,tz='Asia/Taipei')"
   ]
  },
  {
   "cell_type": "code",
   "execution_count": 42,
   "id": "15f93499",
   "metadata": {
    "ExecuteTime": {
     "end_time": "2021-08-13T03:52:14.953688Z",
     "start_time": "2021-08-13T03:52:14.944687Z"
    }
   },
   "outputs": [],
   "source": [
    "from pandas.tseries.offsets import DateOffset,MonthEnd,MonthBegin"
   ]
  },
  {
   "cell_type": "code",
   "execution_count": 43,
   "id": "c375908b",
   "metadata": {
    "ExecuteTime": {
     "end_time": "2021-08-13T03:52:42.407774Z",
     "start_time": "2021-08-13T03:52:42.394754Z"
    }
   },
   "outputs": [
    {
     "data": {
      "text/plain": [
       "Timestamp('2020-08-12 04:00:00')"
      ]
     },
     "execution_count": 43,
     "metadata": {},
     "output_type": "execute_result"
    }
   ],
   "source": [
    "now = pd.Timestamp('2020-08-12 04:00')\n",
    "now"
   ]
  },
  {
   "cell_type": "code",
   "execution_count": 45,
   "id": "1b184154",
   "metadata": {
    "ExecuteTime": {
     "end_time": "2021-08-13T03:53:12.062564Z",
     "start_time": "2021-08-13T03:53:12.044535Z"
    }
   },
   "outputs": [
    {
     "data": {
      "text/plain": [
       "Timestamp('2020-08-12 04:30:00')"
      ]
     },
     "execution_count": 45,
     "metadata": {},
     "output_type": "execute_result"
    }
   ],
   "source": [
    "now + DateOffset(minutes=30)"
   ]
  },
  {
   "cell_type": "code",
   "execution_count": 46,
   "id": "fdea1510",
   "metadata": {
    "ExecuteTime": {
     "end_time": "2021-08-13T03:53:25.367245Z",
     "start_time": "2021-08-13T03:53:25.349966Z"
    }
   },
   "outputs": [
    {
     "data": {
      "text/plain": [
       "Timestamp('2020-08-15 04:00:00')"
      ]
     },
     "execution_count": 46,
     "metadata": {},
     "output_type": "execute_result"
    }
   ],
   "source": [
    "now + DateOffset(days=3)"
   ]
  },
  {
   "cell_type": "code",
   "execution_count": 54,
   "id": "01355654",
   "metadata": {
    "ExecuteTime": {
     "end_time": "2021-08-13T03:54:33.692116Z",
     "start_time": "2021-08-13T03:54:33.678580Z"
    }
   },
   "outputs": [
    {
     "data": {
      "text/plain": [
       "Timestamp('2020-08-31 04:00:00')"
      ]
     },
     "execution_count": 54,
     "metadata": {},
     "output_type": "execute_result"
    }
   ],
   "source": [
    "now +MonthEnd(1)"
   ]
  },
  {
   "cell_type": "code",
   "execution_count": 48,
   "id": "06f58060",
   "metadata": {
    "ExecuteTime": {
     "end_time": "2021-08-13T03:53:46.202729Z",
     "start_time": "2021-08-13T03:53:46.184644Z"
    }
   },
   "outputs": [
    {
     "data": {
      "text/plain": [
       "Timestamp('2020-09-30 04:00:00')"
      ]
     },
     "execution_count": 48,
     "metadata": {},
     "output_type": "execute_result"
    }
   ],
   "source": [
    "now +MonthEnd(2)"
   ]
  },
  {
   "cell_type": "code",
   "execution_count": 49,
   "id": "4f1e7628",
   "metadata": {
    "ExecuteTime": {
     "end_time": "2021-08-13T03:54:00.823148Z",
     "start_time": "2021-08-13T03:54:00.812638Z"
    }
   },
   "outputs": [
    {
     "data": {
      "text/plain": [
       "Timestamp('2020-08-01 04:00:00')"
      ]
     },
     "execution_count": 49,
     "metadata": {},
     "output_type": "execute_result"
    }
   ],
   "source": [
    "now - MonthBegin()"
   ]
  },
  {
   "cell_type": "code",
   "execution_count": 56,
   "id": "1f9f96e9",
   "metadata": {
    "ExecuteTime": {
     "end_time": "2021-08-13T03:55:40.206632Z",
     "start_time": "2021-08-13T03:55:40.198076Z"
    }
   },
   "outputs": [
    {
     "data": {
      "text/plain": [
       "Timestamp('2020-08-12 04:00:00')"
      ]
     },
     "execution_count": 56,
     "metadata": {},
     "output_type": "execute_result"
    }
   ],
   "source": [
    "#timezone\n",
    "now"
   ]
  },
  {
   "cell_type": "code",
   "execution_count": 57,
   "id": "636d16ed",
   "metadata": {
    "ExecuteTime": {
     "end_time": "2021-08-13T03:56:00.506392Z",
     "start_time": "2021-08-13T03:56:00.497848Z"
    }
   },
   "outputs": [
    {
     "data": {
      "text/plain": [
       "Timestamp('2020-08-12 04:00:00+0800', tz='Asia/Taipei')"
      ]
     },
     "execution_count": 57,
     "metadata": {},
     "output_type": "execute_result"
    }
   ],
   "source": [
    "now.tz_localize('Asia/Taipei')"
   ]
  },
  {
   "cell_type": "code",
   "execution_count": null,
   "id": "57888562",
   "metadata": {},
   "outputs": [],
   "source": [
    "now.tz"
   ]
  }
 ],
 "metadata": {
  "kernelspec": {
   "display_name": "Python 3",
   "language": "python",
   "name": "python3"
  },
  "language_info": {
   "codemirror_mode": {
    "name": "ipython",
    "version": 3
   },
   "file_extension": ".py",
   "mimetype": "text/x-python",
   "name": "python",
   "nbconvert_exporter": "python",
   "pygments_lexer": "ipython3",
   "version": "3.8.8"
  }
 },
 "nbformat": 4,
 "nbformat_minor": 5
}
