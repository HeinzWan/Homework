{
 "cells": [
  {
   "cell_type": "code",
   "execution_count": 2,
   "id": "9ed2b7b8",
   "metadata": {
    "ExecuteTime": {
     "end_time": "2021-08-10T05:59:22.162059Z",
     "start_time": "2021-08-10T05:59:21.635188Z"
    }
   },
   "outputs": [
    {
     "name": "stdout",
     "output_type": "stream",
     "text": [
      "collection Collection(Database(MongoClient(host=['localhost:27017'], document_class=dict, tz_aware=False, connect=True), 'tfb103'), 'iiiCollection')\n"
     ]
    }
   ],
   "source": [
    "from pymongo import MongoClient\n",
    "import pandas as pd\n",
    "connection = MongoClient(host='localhost',port=27017)\n",
    "db = connection.tfb103\n",
    "collection = db['iiiCollection']\n",
    "print(\"collection\",collection)"
   ]
  },
  {
   "cell_type": "code",
   "execution_count": 5,
   "id": "f47a7db6",
   "metadata": {
    "ExecuteTime": {
     "end_time": "2021-08-10T05:59:40.961922Z",
     "start_time": "2021-08-10T05:59:40.938924Z"
    }
   },
   "outputs": [
    {
     "name": "stdout",
     "output_type": "stream",
     "text": [
      "                        _id   age    name\n",
      "0  610f5406439cbe028d3870b5  19.0  user19\n"
     ]
    }
   ],
   "source": [
    "myquery={\"age\":19}\n",
    "data = pd.DataFrame(list(collection.find(myquery)))\n",
    "print(data)"
   ]
  },
  {
   "cell_type": "code",
   "execution_count": null,
   "id": "e1c41550",
   "metadata": {},
   "outputs": [],
   "source": []
  }
 ],
 "metadata": {
  "kernelspec": {
   "display_name": "Python 3",
   "language": "python",
   "name": "python3"
  },
  "language_info": {
   "codemirror_mode": {
    "name": "ipython",
    "version": 3
   },
   "file_extension": ".py",
   "mimetype": "text/x-python",
   "name": "python",
   "nbconvert_exporter": "python",
   "pygments_lexer": "ipython3",
   "version": "3.8.8"
  }
 },
 "nbformat": 4,
 "nbformat_minor": 5
}
