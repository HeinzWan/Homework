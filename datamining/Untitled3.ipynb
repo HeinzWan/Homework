{
 "cells": [
  {
   "cell_type": "code",
   "execution_count": null,
   "id": "69b87fcf",
   "metadata": {},
   "outputs": [],
   "source": []
  }
 ],
 "metadata": {
  "kernelspec": {
   "display_name": "Python 3",
   "language": "python",
   "name": "python3"
  }
 },
 "nbformat": 4,
 "nbformat_minor": 5
}
